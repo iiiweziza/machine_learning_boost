{
 "cells": [
  {
   "cell_type": "code",
   "execution_count": 1,
   "id": "c61db208",
   "metadata": {},
   "outputs": [],
   "source": [
    "import pandas as pd \n",
    "import matplotlib.pyplot as plt \n",
    "import seaborn as sns \n",
    "import warnings\n",
    "warnings.filterwarnings('ignore')\n",
    "import numpy as np"
   ]
  },
  {
   "cell_type": "code",
   "execution_count": 2,
   "id": "17ce38f5",
   "metadata": {},
   "outputs": [],
   "source": [
    "data=pd.read_csv(r\"C:\\Users\\Makaa\\Desktop\\ML ZoomCamp\\Customer Churn Prediction\\WA_Fn-UseC_-Telco-Customer-Churn.csv\")"
   ]
  },
  {
   "cell_type": "code",
   "execution_count": 3,
   "id": "a46da926",
   "metadata": {},
   "outputs": [
    {
     "data": {
      "text/html": [
       "<div>\n",
       "<style scoped>\n",
       "    .dataframe tbody tr th:only-of-type {\n",
       "        vertical-align: middle;\n",
       "    }\n",
       "\n",
       "    .dataframe tbody tr th {\n",
       "        vertical-align: top;\n",
       "    }\n",
       "\n",
       "    .dataframe thead th {\n",
       "        text-align: right;\n",
       "    }\n",
       "</style>\n",
       "<table border=\"1\" class=\"dataframe\">\n",
       "  <thead>\n",
       "    <tr style=\"text-align: right;\">\n",
       "      <th></th>\n",
       "      <th>customerID</th>\n",
       "      <th>gender</th>\n",
       "      <th>SeniorCitizen</th>\n",
       "      <th>Partner</th>\n",
       "      <th>Dependents</th>\n",
       "      <th>tenure</th>\n",
       "      <th>PhoneService</th>\n",
       "      <th>MultipleLines</th>\n",
       "      <th>InternetService</th>\n",
       "      <th>OnlineSecurity</th>\n",
       "      <th>...</th>\n",
       "      <th>DeviceProtection</th>\n",
       "      <th>TechSupport</th>\n",
       "      <th>StreamingTV</th>\n",
       "      <th>StreamingMovies</th>\n",
       "      <th>Contract</th>\n",
       "      <th>PaperlessBilling</th>\n",
       "      <th>PaymentMethod</th>\n",
       "      <th>MonthlyCharges</th>\n",
       "      <th>TotalCharges</th>\n",
       "      <th>Churn</th>\n",
       "    </tr>\n",
       "  </thead>\n",
       "  <tbody>\n",
       "    <tr>\n",
       "      <th>0</th>\n",
       "      <td>7590-VHVEG</td>\n",
       "      <td>Female</td>\n",
       "      <td>0</td>\n",
       "      <td>Yes</td>\n",
       "      <td>No</td>\n",
       "      <td>1</td>\n",
       "      <td>No</td>\n",
       "      <td>No phone service</td>\n",
       "      <td>DSL</td>\n",
       "      <td>No</td>\n",
       "      <td>...</td>\n",
       "      <td>No</td>\n",
       "      <td>No</td>\n",
       "      <td>No</td>\n",
       "      <td>No</td>\n",
       "      <td>Month-to-month</td>\n",
       "      <td>Yes</td>\n",
       "      <td>Electronic check</td>\n",
       "      <td>29.85</td>\n",
       "      <td>29.85</td>\n",
       "      <td>No</td>\n",
       "    </tr>\n",
       "    <tr>\n",
       "      <th>1</th>\n",
       "      <td>5575-GNVDE</td>\n",
       "      <td>Male</td>\n",
       "      <td>0</td>\n",
       "      <td>No</td>\n",
       "      <td>No</td>\n",
       "      <td>34</td>\n",
       "      <td>Yes</td>\n",
       "      <td>No</td>\n",
       "      <td>DSL</td>\n",
       "      <td>Yes</td>\n",
       "      <td>...</td>\n",
       "      <td>Yes</td>\n",
       "      <td>No</td>\n",
       "      <td>No</td>\n",
       "      <td>No</td>\n",
       "      <td>One year</td>\n",
       "      <td>No</td>\n",
       "      <td>Mailed check</td>\n",
       "      <td>56.95</td>\n",
       "      <td>1889.5</td>\n",
       "      <td>No</td>\n",
       "    </tr>\n",
       "    <tr>\n",
       "      <th>2</th>\n",
       "      <td>3668-QPYBK</td>\n",
       "      <td>Male</td>\n",
       "      <td>0</td>\n",
       "      <td>No</td>\n",
       "      <td>No</td>\n",
       "      <td>2</td>\n",
       "      <td>Yes</td>\n",
       "      <td>No</td>\n",
       "      <td>DSL</td>\n",
       "      <td>Yes</td>\n",
       "      <td>...</td>\n",
       "      <td>No</td>\n",
       "      <td>No</td>\n",
       "      <td>No</td>\n",
       "      <td>No</td>\n",
       "      <td>Month-to-month</td>\n",
       "      <td>Yes</td>\n",
       "      <td>Mailed check</td>\n",
       "      <td>53.85</td>\n",
       "      <td>108.15</td>\n",
       "      <td>Yes</td>\n",
       "    </tr>\n",
       "    <tr>\n",
       "      <th>3</th>\n",
       "      <td>7795-CFOCW</td>\n",
       "      <td>Male</td>\n",
       "      <td>0</td>\n",
       "      <td>No</td>\n",
       "      <td>No</td>\n",
       "      <td>45</td>\n",
       "      <td>No</td>\n",
       "      <td>No phone service</td>\n",
       "      <td>DSL</td>\n",
       "      <td>Yes</td>\n",
       "      <td>...</td>\n",
       "      <td>Yes</td>\n",
       "      <td>Yes</td>\n",
       "      <td>No</td>\n",
       "      <td>No</td>\n",
       "      <td>One year</td>\n",
       "      <td>No</td>\n",
       "      <td>Bank transfer (automatic)</td>\n",
       "      <td>42.30</td>\n",
       "      <td>1840.75</td>\n",
       "      <td>No</td>\n",
       "    </tr>\n",
       "    <tr>\n",
       "      <th>4</th>\n",
       "      <td>9237-HQITU</td>\n",
       "      <td>Female</td>\n",
       "      <td>0</td>\n",
       "      <td>No</td>\n",
       "      <td>No</td>\n",
       "      <td>2</td>\n",
       "      <td>Yes</td>\n",
       "      <td>No</td>\n",
       "      <td>Fiber optic</td>\n",
       "      <td>No</td>\n",
       "      <td>...</td>\n",
       "      <td>No</td>\n",
       "      <td>No</td>\n",
       "      <td>No</td>\n",
       "      <td>No</td>\n",
       "      <td>Month-to-month</td>\n",
       "      <td>Yes</td>\n",
       "      <td>Electronic check</td>\n",
       "      <td>70.70</td>\n",
       "      <td>151.65</td>\n",
       "      <td>Yes</td>\n",
       "    </tr>\n",
       "    <tr>\n",
       "      <th>...</th>\n",
       "      <td>...</td>\n",
       "      <td>...</td>\n",
       "      <td>...</td>\n",
       "      <td>...</td>\n",
       "      <td>...</td>\n",
       "      <td>...</td>\n",
       "      <td>...</td>\n",
       "      <td>...</td>\n",
       "      <td>...</td>\n",
       "      <td>...</td>\n",
       "      <td>...</td>\n",
       "      <td>...</td>\n",
       "      <td>...</td>\n",
       "      <td>...</td>\n",
       "      <td>...</td>\n",
       "      <td>...</td>\n",
       "      <td>...</td>\n",
       "      <td>...</td>\n",
       "      <td>...</td>\n",
       "      <td>...</td>\n",
       "      <td>...</td>\n",
       "    </tr>\n",
       "    <tr>\n",
       "      <th>7038</th>\n",
       "      <td>6840-RESVB</td>\n",
       "      <td>Male</td>\n",
       "      <td>0</td>\n",
       "      <td>Yes</td>\n",
       "      <td>Yes</td>\n",
       "      <td>24</td>\n",
       "      <td>Yes</td>\n",
       "      <td>Yes</td>\n",
       "      <td>DSL</td>\n",
       "      <td>Yes</td>\n",
       "      <td>...</td>\n",
       "      <td>Yes</td>\n",
       "      <td>Yes</td>\n",
       "      <td>Yes</td>\n",
       "      <td>Yes</td>\n",
       "      <td>One year</td>\n",
       "      <td>Yes</td>\n",
       "      <td>Mailed check</td>\n",
       "      <td>84.80</td>\n",
       "      <td>1990.5</td>\n",
       "      <td>No</td>\n",
       "    </tr>\n",
       "    <tr>\n",
       "      <th>7039</th>\n",
       "      <td>2234-XADUH</td>\n",
       "      <td>Female</td>\n",
       "      <td>0</td>\n",
       "      <td>Yes</td>\n",
       "      <td>Yes</td>\n",
       "      <td>72</td>\n",
       "      <td>Yes</td>\n",
       "      <td>Yes</td>\n",
       "      <td>Fiber optic</td>\n",
       "      <td>No</td>\n",
       "      <td>...</td>\n",
       "      <td>Yes</td>\n",
       "      <td>No</td>\n",
       "      <td>Yes</td>\n",
       "      <td>Yes</td>\n",
       "      <td>One year</td>\n",
       "      <td>Yes</td>\n",
       "      <td>Credit card (automatic)</td>\n",
       "      <td>103.20</td>\n",
       "      <td>7362.9</td>\n",
       "      <td>No</td>\n",
       "    </tr>\n",
       "    <tr>\n",
       "      <th>7040</th>\n",
       "      <td>4801-JZAZL</td>\n",
       "      <td>Female</td>\n",
       "      <td>0</td>\n",
       "      <td>Yes</td>\n",
       "      <td>Yes</td>\n",
       "      <td>11</td>\n",
       "      <td>No</td>\n",
       "      <td>No phone service</td>\n",
       "      <td>DSL</td>\n",
       "      <td>Yes</td>\n",
       "      <td>...</td>\n",
       "      <td>No</td>\n",
       "      <td>No</td>\n",
       "      <td>No</td>\n",
       "      <td>No</td>\n",
       "      <td>Month-to-month</td>\n",
       "      <td>Yes</td>\n",
       "      <td>Electronic check</td>\n",
       "      <td>29.60</td>\n",
       "      <td>346.45</td>\n",
       "      <td>No</td>\n",
       "    </tr>\n",
       "    <tr>\n",
       "      <th>7041</th>\n",
       "      <td>8361-LTMKD</td>\n",
       "      <td>Male</td>\n",
       "      <td>1</td>\n",
       "      <td>Yes</td>\n",
       "      <td>No</td>\n",
       "      <td>4</td>\n",
       "      <td>Yes</td>\n",
       "      <td>Yes</td>\n",
       "      <td>Fiber optic</td>\n",
       "      <td>No</td>\n",
       "      <td>...</td>\n",
       "      <td>No</td>\n",
       "      <td>No</td>\n",
       "      <td>No</td>\n",
       "      <td>No</td>\n",
       "      <td>Month-to-month</td>\n",
       "      <td>Yes</td>\n",
       "      <td>Mailed check</td>\n",
       "      <td>74.40</td>\n",
       "      <td>306.6</td>\n",
       "      <td>Yes</td>\n",
       "    </tr>\n",
       "    <tr>\n",
       "      <th>7042</th>\n",
       "      <td>3186-AJIEK</td>\n",
       "      <td>Male</td>\n",
       "      <td>0</td>\n",
       "      <td>No</td>\n",
       "      <td>No</td>\n",
       "      <td>66</td>\n",
       "      <td>Yes</td>\n",
       "      <td>No</td>\n",
       "      <td>Fiber optic</td>\n",
       "      <td>Yes</td>\n",
       "      <td>...</td>\n",
       "      <td>Yes</td>\n",
       "      <td>Yes</td>\n",
       "      <td>Yes</td>\n",
       "      <td>Yes</td>\n",
       "      <td>Two year</td>\n",
       "      <td>Yes</td>\n",
       "      <td>Bank transfer (automatic)</td>\n",
       "      <td>105.65</td>\n",
       "      <td>6844.5</td>\n",
       "      <td>No</td>\n",
       "    </tr>\n",
       "  </tbody>\n",
       "</table>\n",
       "<p>7043 rows × 21 columns</p>\n",
       "</div>"
      ],
      "text/plain": [
       "      customerID  gender  SeniorCitizen Partner Dependents  tenure  \\\n",
       "0     7590-VHVEG  Female              0     Yes         No       1   \n",
       "1     5575-GNVDE    Male              0      No         No      34   \n",
       "2     3668-QPYBK    Male              0      No         No       2   \n",
       "3     7795-CFOCW    Male              0      No         No      45   \n",
       "4     9237-HQITU  Female              0      No         No       2   \n",
       "...          ...     ...            ...     ...        ...     ...   \n",
       "7038  6840-RESVB    Male              0     Yes        Yes      24   \n",
       "7039  2234-XADUH  Female              0     Yes        Yes      72   \n",
       "7040  4801-JZAZL  Female              0     Yes        Yes      11   \n",
       "7041  8361-LTMKD    Male              1     Yes         No       4   \n",
       "7042  3186-AJIEK    Male              0      No         No      66   \n",
       "\n",
       "     PhoneService     MultipleLines InternetService OnlineSecurity  ...  \\\n",
       "0              No  No phone service             DSL             No  ...   \n",
       "1             Yes                No             DSL            Yes  ...   \n",
       "2             Yes                No             DSL            Yes  ...   \n",
       "3              No  No phone service             DSL            Yes  ...   \n",
       "4             Yes                No     Fiber optic             No  ...   \n",
       "...           ...               ...             ...            ...  ...   \n",
       "7038          Yes               Yes             DSL            Yes  ...   \n",
       "7039          Yes               Yes     Fiber optic             No  ...   \n",
       "7040           No  No phone service             DSL            Yes  ...   \n",
       "7041          Yes               Yes     Fiber optic             No  ...   \n",
       "7042          Yes                No     Fiber optic            Yes  ...   \n",
       "\n",
       "     DeviceProtection TechSupport StreamingTV StreamingMovies        Contract  \\\n",
       "0                  No          No          No              No  Month-to-month   \n",
       "1                 Yes          No          No              No        One year   \n",
       "2                  No          No          No              No  Month-to-month   \n",
       "3                 Yes         Yes          No              No        One year   \n",
       "4                  No          No          No              No  Month-to-month   \n",
       "...               ...         ...         ...             ...             ...   \n",
       "7038              Yes         Yes         Yes             Yes        One year   \n",
       "7039              Yes          No         Yes             Yes        One year   \n",
       "7040               No          No          No              No  Month-to-month   \n",
       "7041               No          No          No              No  Month-to-month   \n",
       "7042              Yes         Yes         Yes             Yes        Two year   \n",
       "\n",
       "     PaperlessBilling              PaymentMethod MonthlyCharges  TotalCharges  \\\n",
       "0                 Yes           Electronic check          29.85         29.85   \n",
       "1                  No               Mailed check          56.95        1889.5   \n",
       "2                 Yes               Mailed check          53.85        108.15   \n",
       "3                  No  Bank transfer (automatic)          42.30       1840.75   \n",
       "4                 Yes           Electronic check          70.70        151.65   \n",
       "...               ...                        ...            ...           ...   \n",
       "7038              Yes               Mailed check          84.80        1990.5   \n",
       "7039              Yes    Credit card (automatic)         103.20        7362.9   \n",
       "7040              Yes           Electronic check          29.60        346.45   \n",
       "7041              Yes               Mailed check          74.40         306.6   \n",
       "7042              Yes  Bank transfer (automatic)         105.65        6844.5   \n",
       "\n",
       "     Churn  \n",
       "0       No  \n",
       "1       No  \n",
       "2      Yes  \n",
       "3       No  \n",
       "4      Yes  \n",
       "...    ...  \n",
       "7038    No  \n",
       "7039    No  \n",
       "7040    No  \n",
       "7041   Yes  \n",
       "7042    No  \n",
       "\n",
       "[7043 rows x 21 columns]"
      ]
     },
     "execution_count": 3,
     "metadata": {},
     "output_type": "execute_result"
    }
   ],
   "source": [
    "df=data.copy()\n",
    "df"
   ]
  },
  {
   "cell_type": "code",
   "execution_count": 4,
   "id": "9a8dc8fd",
   "metadata": {},
   "outputs": [
    {
     "name": "stdout",
     "output_type": "stream",
     "text": [
      "<class 'pandas.core.frame.DataFrame'>\n",
      "RangeIndex: 7043 entries, 0 to 7042\n",
      "Data columns (total 21 columns):\n",
      " #   Column            Non-Null Count  Dtype  \n",
      "---  ------            --------------  -----  \n",
      " 0   customerID        7043 non-null   object \n",
      " 1   gender            7043 non-null   object \n",
      " 2   SeniorCitizen     7043 non-null   int64  \n",
      " 3   Partner           7043 non-null   object \n",
      " 4   Dependents        7043 non-null   object \n",
      " 5   tenure            7043 non-null   int64  \n",
      " 6   PhoneService      7043 non-null   object \n",
      " 7   MultipleLines     7043 non-null   object \n",
      " 8   InternetService   7043 non-null   object \n",
      " 9   OnlineSecurity    7043 non-null   object \n",
      " 10  OnlineBackup      7043 non-null   object \n",
      " 11  DeviceProtection  7043 non-null   object \n",
      " 12  TechSupport       7043 non-null   object \n",
      " 13  StreamingTV       7043 non-null   object \n",
      " 14  StreamingMovies   7043 non-null   object \n",
      " 15  Contract          7043 non-null   object \n",
      " 16  PaperlessBilling  7043 non-null   object \n",
      " 17  PaymentMethod     7043 non-null   object \n",
      " 18  MonthlyCharges    7043 non-null   float64\n",
      " 19  TotalCharges      7043 non-null   object \n",
      " 20  Churn             7043 non-null   object \n",
      "dtypes: float64(1), int64(2), object(18)\n",
      "memory usage: 1.1+ MB\n"
     ]
    }
   ],
   "source": [
    "df.info()"
   ]
  },
  {
   "cell_type": "code",
   "execution_count": 5,
   "id": "6c8104a4",
   "metadata": {},
   "outputs": [
    {
     "data": {
      "text/plain": [
       "False    7043\n",
       "dtype: int64"
      ]
     },
     "execution_count": 5,
     "metadata": {},
     "output_type": "execute_result"
    }
   ],
   "source": [
    "df.duplicated().value_counts()"
   ]
  },
  {
   "cell_type": "code",
   "execution_count": 6,
   "id": "bebe0476",
   "metadata": {},
   "outputs": [
    {
     "data": {
      "text/plain": [
       "customerID          0\n",
       "gender              0\n",
       "SeniorCitizen       0\n",
       "Partner             0\n",
       "Dependents          0\n",
       "tenure              0\n",
       "PhoneService        0\n",
       "MultipleLines       0\n",
       "InternetService     0\n",
       "OnlineSecurity      0\n",
       "OnlineBackup        0\n",
       "DeviceProtection    0\n",
       "TechSupport         0\n",
       "StreamingTV         0\n",
       "StreamingMovies     0\n",
       "Contract            0\n",
       "PaperlessBilling    0\n",
       "PaymentMethod       0\n",
       "MonthlyCharges      0\n",
       "TotalCharges        0\n",
       "Churn               0\n",
       "dtype: int64"
      ]
     },
     "execution_count": 6,
     "metadata": {},
     "output_type": "execute_result"
    }
   ],
   "source": [
    "df.isna().sum()"
   ]
  },
  {
   "cell_type": "code",
   "execution_count": 7,
   "id": "0303252a",
   "metadata": {},
   "outputs": [
    {
     "data": {
      "text/plain": [
       "Index(['customerID', 'gender', 'SeniorCitizen', 'Partner', 'Dependents',\n",
       "       'tenure', 'PhoneService', 'MultipleLines', 'InternetService',\n",
       "       'OnlineSecurity', 'OnlineBackup', 'DeviceProtection', 'TechSupport',\n",
       "       'StreamingTV', 'StreamingMovies', 'Contract', 'PaperlessBilling',\n",
       "       'PaymentMethod', 'MonthlyCharges', 'TotalCharges', 'Churn'],\n",
       "      dtype='object')"
      ]
     },
     "execution_count": 7,
     "metadata": {},
     "output_type": "execute_result"
    }
   ],
   "source": [
    "df.columns"
   ]
  },
  {
   "cell_type": "code",
   "execution_count": 8,
   "id": "14982c84",
   "metadata": {},
   "outputs": [],
   "source": [
    "categorical_columns = list(df.dtypes[df.dtypes=='object'].index)\n",
    "\n",
    "for c in categorical_columns: \n",
    "    df[c] = df[c].str.lower().str.replace(' ','_')"
   ]
  },
  {
   "cell_type": "code",
   "execution_count": 9,
   "id": "baf559fe",
   "metadata": {},
   "outputs": [
    {
     "data": {
      "text/html": [
       "<div>\n",
       "<style scoped>\n",
       "    .dataframe tbody tr th:only-of-type {\n",
       "        vertical-align: middle;\n",
       "    }\n",
       "\n",
       "    .dataframe tbody tr th {\n",
       "        vertical-align: top;\n",
       "    }\n",
       "\n",
       "    .dataframe thead th {\n",
       "        text-align: right;\n",
       "    }\n",
       "</style>\n",
       "<table border=\"1\" class=\"dataframe\">\n",
       "  <thead>\n",
       "    <tr style=\"text-align: right;\">\n",
       "      <th></th>\n",
       "      <th>customerID</th>\n",
       "      <th>gender</th>\n",
       "      <th>SeniorCitizen</th>\n",
       "      <th>Partner</th>\n",
       "      <th>Dependents</th>\n",
       "      <th>tenure</th>\n",
       "      <th>PhoneService</th>\n",
       "      <th>MultipleLines</th>\n",
       "      <th>InternetService</th>\n",
       "      <th>OnlineSecurity</th>\n",
       "      <th>...</th>\n",
       "      <th>DeviceProtection</th>\n",
       "      <th>TechSupport</th>\n",
       "      <th>StreamingTV</th>\n",
       "      <th>StreamingMovies</th>\n",
       "      <th>Contract</th>\n",
       "      <th>PaperlessBilling</th>\n",
       "      <th>PaymentMethod</th>\n",
       "      <th>MonthlyCharges</th>\n",
       "      <th>TotalCharges</th>\n",
       "      <th>Churn</th>\n",
       "    </tr>\n",
       "  </thead>\n",
       "  <tbody>\n",
       "    <tr>\n",
       "      <th>0</th>\n",
       "      <td>7590-vhveg</td>\n",
       "      <td>female</td>\n",
       "      <td>0</td>\n",
       "      <td>yes</td>\n",
       "      <td>no</td>\n",
       "      <td>1</td>\n",
       "      <td>no</td>\n",
       "      <td>no_phone_service</td>\n",
       "      <td>dsl</td>\n",
       "      <td>no</td>\n",
       "      <td>...</td>\n",
       "      <td>no</td>\n",
       "      <td>no</td>\n",
       "      <td>no</td>\n",
       "      <td>no</td>\n",
       "      <td>month-to-month</td>\n",
       "      <td>yes</td>\n",
       "      <td>electronic_check</td>\n",
       "      <td>29.85</td>\n",
       "      <td>29.85</td>\n",
       "      <td>no</td>\n",
       "    </tr>\n",
       "    <tr>\n",
       "      <th>1</th>\n",
       "      <td>5575-gnvde</td>\n",
       "      <td>male</td>\n",
       "      <td>0</td>\n",
       "      <td>no</td>\n",
       "      <td>no</td>\n",
       "      <td>34</td>\n",
       "      <td>yes</td>\n",
       "      <td>no</td>\n",
       "      <td>dsl</td>\n",
       "      <td>yes</td>\n",
       "      <td>...</td>\n",
       "      <td>yes</td>\n",
       "      <td>no</td>\n",
       "      <td>no</td>\n",
       "      <td>no</td>\n",
       "      <td>one_year</td>\n",
       "      <td>no</td>\n",
       "      <td>mailed_check</td>\n",
       "      <td>56.95</td>\n",
       "      <td>1889.5</td>\n",
       "      <td>no</td>\n",
       "    </tr>\n",
       "    <tr>\n",
       "      <th>2</th>\n",
       "      <td>3668-qpybk</td>\n",
       "      <td>male</td>\n",
       "      <td>0</td>\n",
       "      <td>no</td>\n",
       "      <td>no</td>\n",
       "      <td>2</td>\n",
       "      <td>yes</td>\n",
       "      <td>no</td>\n",
       "      <td>dsl</td>\n",
       "      <td>yes</td>\n",
       "      <td>...</td>\n",
       "      <td>no</td>\n",
       "      <td>no</td>\n",
       "      <td>no</td>\n",
       "      <td>no</td>\n",
       "      <td>month-to-month</td>\n",
       "      <td>yes</td>\n",
       "      <td>mailed_check</td>\n",
       "      <td>53.85</td>\n",
       "      <td>108.15</td>\n",
       "      <td>yes</td>\n",
       "    </tr>\n",
       "    <tr>\n",
       "      <th>3</th>\n",
       "      <td>7795-cfocw</td>\n",
       "      <td>male</td>\n",
       "      <td>0</td>\n",
       "      <td>no</td>\n",
       "      <td>no</td>\n",
       "      <td>45</td>\n",
       "      <td>no</td>\n",
       "      <td>no_phone_service</td>\n",
       "      <td>dsl</td>\n",
       "      <td>yes</td>\n",
       "      <td>...</td>\n",
       "      <td>yes</td>\n",
       "      <td>yes</td>\n",
       "      <td>no</td>\n",
       "      <td>no</td>\n",
       "      <td>one_year</td>\n",
       "      <td>no</td>\n",
       "      <td>bank_transfer_(automatic)</td>\n",
       "      <td>42.30</td>\n",
       "      <td>1840.75</td>\n",
       "      <td>no</td>\n",
       "    </tr>\n",
       "    <tr>\n",
       "      <th>4</th>\n",
       "      <td>9237-hqitu</td>\n",
       "      <td>female</td>\n",
       "      <td>0</td>\n",
       "      <td>no</td>\n",
       "      <td>no</td>\n",
       "      <td>2</td>\n",
       "      <td>yes</td>\n",
       "      <td>no</td>\n",
       "      <td>fiber_optic</td>\n",
       "      <td>no</td>\n",
       "      <td>...</td>\n",
       "      <td>no</td>\n",
       "      <td>no</td>\n",
       "      <td>no</td>\n",
       "      <td>no</td>\n",
       "      <td>month-to-month</td>\n",
       "      <td>yes</td>\n",
       "      <td>electronic_check</td>\n",
       "      <td>70.70</td>\n",
       "      <td>151.65</td>\n",
       "      <td>yes</td>\n",
       "    </tr>\n",
       "    <tr>\n",
       "      <th>...</th>\n",
       "      <td>...</td>\n",
       "      <td>...</td>\n",
       "      <td>...</td>\n",
       "      <td>...</td>\n",
       "      <td>...</td>\n",
       "      <td>...</td>\n",
       "      <td>...</td>\n",
       "      <td>...</td>\n",
       "      <td>...</td>\n",
       "      <td>...</td>\n",
       "      <td>...</td>\n",
       "      <td>...</td>\n",
       "      <td>...</td>\n",
       "      <td>...</td>\n",
       "      <td>...</td>\n",
       "      <td>...</td>\n",
       "      <td>...</td>\n",
       "      <td>...</td>\n",
       "      <td>...</td>\n",
       "      <td>...</td>\n",
       "      <td>...</td>\n",
       "    </tr>\n",
       "    <tr>\n",
       "      <th>7038</th>\n",
       "      <td>6840-resvb</td>\n",
       "      <td>male</td>\n",
       "      <td>0</td>\n",
       "      <td>yes</td>\n",
       "      <td>yes</td>\n",
       "      <td>24</td>\n",
       "      <td>yes</td>\n",
       "      <td>yes</td>\n",
       "      <td>dsl</td>\n",
       "      <td>yes</td>\n",
       "      <td>...</td>\n",
       "      <td>yes</td>\n",
       "      <td>yes</td>\n",
       "      <td>yes</td>\n",
       "      <td>yes</td>\n",
       "      <td>one_year</td>\n",
       "      <td>yes</td>\n",
       "      <td>mailed_check</td>\n",
       "      <td>84.80</td>\n",
       "      <td>1990.5</td>\n",
       "      <td>no</td>\n",
       "    </tr>\n",
       "    <tr>\n",
       "      <th>7039</th>\n",
       "      <td>2234-xaduh</td>\n",
       "      <td>female</td>\n",
       "      <td>0</td>\n",
       "      <td>yes</td>\n",
       "      <td>yes</td>\n",
       "      <td>72</td>\n",
       "      <td>yes</td>\n",
       "      <td>yes</td>\n",
       "      <td>fiber_optic</td>\n",
       "      <td>no</td>\n",
       "      <td>...</td>\n",
       "      <td>yes</td>\n",
       "      <td>no</td>\n",
       "      <td>yes</td>\n",
       "      <td>yes</td>\n",
       "      <td>one_year</td>\n",
       "      <td>yes</td>\n",
       "      <td>credit_card_(automatic)</td>\n",
       "      <td>103.20</td>\n",
       "      <td>7362.9</td>\n",
       "      <td>no</td>\n",
       "    </tr>\n",
       "    <tr>\n",
       "      <th>7040</th>\n",
       "      <td>4801-jzazl</td>\n",
       "      <td>female</td>\n",
       "      <td>0</td>\n",
       "      <td>yes</td>\n",
       "      <td>yes</td>\n",
       "      <td>11</td>\n",
       "      <td>no</td>\n",
       "      <td>no_phone_service</td>\n",
       "      <td>dsl</td>\n",
       "      <td>yes</td>\n",
       "      <td>...</td>\n",
       "      <td>no</td>\n",
       "      <td>no</td>\n",
       "      <td>no</td>\n",
       "      <td>no</td>\n",
       "      <td>month-to-month</td>\n",
       "      <td>yes</td>\n",
       "      <td>electronic_check</td>\n",
       "      <td>29.60</td>\n",
       "      <td>346.45</td>\n",
       "      <td>no</td>\n",
       "    </tr>\n",
       "    <tr>\n",
       "      <th>7041</th>\n",
       "      <td>8361-ltmkd</td>\n",
       "      <td>male</td>\n",
       "      <td>1</td>\n",
       "      <td>yes</td>\n",
       "      <td>no</td>\n",
       "      <td>4</td>\n",
       "      <td>yes</td>\n",
       "      <td>yes</td>\n",
       "      <td>fiber_optic</td>\n",
       "      <td>no</td>\n",
       "      <td>...</td>\n",
       "      <td>no</td>\n",
       "      <td>no</td>\n",
       "      <td>no</td>\n",
       "      <td>no</td>\n",
       "      <td>month-to-month</td>\n",
       "      <td>yes</td>\n",
       "      <td>mailed_check</td>\n",
       "      <td>74.40</td>\n",
       "      <td>306.6</td>\n",
       "      <td>yes</td>\n",
       "    </tr>\n",
       "    <tr>\n",
       "      <th>7042</th>\n",
       "      <td>3186-ajiek</td>\n",
       "      <td>male</td>\n",
       "      <td>0</td>\n",
       "      <td>no</td>\n",
       "      <td>no</td>\n",
       "      <td>66</td>\n",
       "      <td>yes</td>\n",
       "      <td>no</td>\n",
       "      <td>fiber_optic</td>\n",
       "      <td>yes</td>\n",
       "      <td>...</td>\n",
       "      <td>yes</td>\n",
       "      <td>yes</td>\n",
       "      <td>yes</td>\n",
       "      <td>yes</td>\n",
       "      <td>two_year</td>\n",
       "      <td>yes</td>\n",
       "      <td>bank_transfer_(automatic)</td>\n",
       "      <td>105.65</td>\n",
       "      <td>6844.5</td>\n",
       "      <td>no</td>\n",
       "    </tr>\n",
       "  </tbody>\n",
       "</table>\n",
       "<p>7043 rows × 21 columns</p>\n",
       "</div>"
      ],
      "text/plain": [
       "      customerID  gender  SeniorCitizen Partner Dependents  tenure  \\\n",
       "0     7590-vhveg  female              0     yes         no       1   \n",
       "1     5575-gnvde    male              0      no         no      34   \n",
       "2     3668-qpybk    male              0      no         no       2   \n",
       "3     7795-cfocw    male              0      no         no      45   \n",
       "4     9237-hqitu  female              0      no         no       2   \n",
       "...          ...     ...            ...     ...        ...     ...   \n",
       "7038  6840-resvb    male              0     yes        yes      24   \n",
       "7039  2234-xaduh  female              0     yes        yes      72   \n",
       "7040  4801-jzazl  female              0     yes        yes      11   \n",
       "7041  8361-ltmkd    male              1     yes         no       4   \n",
       "7042  3186-ajiek    male              0      no         no      66   \n",
       "\n",
       "     PhoneService     MultipleLines InternetService OnlineSecurity  ...  \\\n",
       "0              no  no_phone_service             dsl             no  ...   \n",
       "1             yes                no             dsl            yes  ...   \n",
       "2             yes                no             dsl            yes  ...   \n",
       "3              no  no_phone_service             dsl            yes  ...   \n",
       "4             yes                no     fiber_optic             no  ...   \n",
       "...           ...               ...             ...            ...  ...   \n",
       "7038          yes               yes             dsl            yes  ...   \n",
       "7039          yes               yes     fiber_optic             no  ...   \n",
       "7040           no  no_phone_service             dsl            yes  ...   \n",
       "7041          yes               yes     fiber_optic             no  ...   \n",
       "7042          yes                no     fiber_optic            yes  ...   \n",
       "\n",
       "     DeviceProtection TechSupport StreamingTV StreamingMovies        Contract  \\\n",
       "0                  no          no          no              no  month-to-month   \n",
       "1                 yes          no          no              no        one_year   \n",
       "2                  no          no          no              no  month-to-month   \n",
       "3                 yes         yes          no              no        one_year   \n",
       "4                  no          no          no              no  month-to-month   \n",
       "...               ...         ...         ...             ...             ...   \n",
       "7038              yes         yes         yes             yes        one_year   \n",
       "7039              yes          no         yes             yes        one_year   \n",
       "7040               no          no          no              no  month-to-month   \n",
       "7041               no          no          no              no  month-to-month   \n",
       "7042              yes         yes         yes             yes        two_year   \n",
       "\n",
       "     PaperlessBilling              PaymentMethod MonthlyCharges  TotalCharges  \\\n",
       "0                 yes           electronic_check          29.85         29.85   \n",
       "1                  no               mailed_check          56.95        1889.5   \n",
       "2                 yes               mailed_check          53.85        108.15   \n",
       "3                  no  bank_transfer_(automatic)          42.30       1840.75   \n",
       "4                 yes           electronic_check          70.70        151.65   \n",
       "...               ...                        ...            ...           ...   \n",
       "7038              yes               mailed_check          84.80        1990.5   \n",
       "7039              yes    credit_card_(automatic)         103.20        7362.9   \n",
       "7040              yes           electronic_check          29.60        346.45   \n",
       "7041              yes               mailed_check          74.40         306.6   \n",
       "7042              yes  bank_transfer_(automatic)         105.65        6844.5   \n",
       "\n",
       "     Churn  \n",
       "0       no  \n",
       "1       no  \n",
       "2      yes  \n",
       "3       no  \n",
       "4      yes  \n",
       "...    ...  \n",
       "7038    no  \n",
       "7039    no  \n",
       "7040    no  \n",
       "7041   yes  \n",
       "7042    no  \n",
       "\n",
       "[7043 rows x 21 columns]"
      ]
     },
     "execution_count": 9,
     "metadata": {},
     "output_type": "execute_result"
    }
   ],
   "source": [
    "df"
   ]
  },
  {
   "cell_type": "code",
   "execution_count": 10,
   "id": "9346512f",
   "metadata": {},
   "outputs": [
    {
     "name": "stdout",
     "output_type": "stream",
     "text": [
      "unique values in  customerID  are : \n",
      "['7590-vhveg' '5575-gnvde' '3668-qpybk' ... '4801-jzazl' '8361-ltmkd'\n",
      " '3186-ajiek']\n",
      "unique values in  gender  are : \n",
      "['female' 'male']\n",
      "unique values in  SeniorCitizen  are : \n",
      "[0 1]\n",
      "unique values in  Partner  are : \n",
      "['yes' 'no']\n",
      "unique values in  Dependents  are : \n",
      "['no' 'yes']\n",
      "unique values in  tenure  are : \n",
      "[ 1 34  2 45  8 22 10 28 62 13 16 58 49 25 69 52 71 21 12 30 47 72 17 27\n",
      "  5 46 11 70 63 43 15 60 18 66  9  3 31 50 64 56  7 42 35 48 29 65 38 68\n",
      " 32 55 37 36 41  6  4 33 67 23 57 61 14 20 53 40 59 24 44 19 54 51 26  0\n",
      " 39]\n",
      "unique values in  PhoneService  are : \n",
      "['no' 'yes']\n",
      "unique values in  MultipleLines  are : \n",
      "['no_phone_service' 'no' 'yes']\n",
      "unique values in  InternetService  are : \n",
      "['dsl' 'fiber_optic' 'no']\n",
      "unique values in  OnlineSecurity  are : \n",
      "['no' 'yes' 'no_internet_service']\n",
      "unique values in  OnlineBackup  are : \n",
      "['yes' 'no' 'no_internet_service']\n",
      "unique values in  DeviceProtection  are : \n",
      "['no' 'yes' 'no_internet_service']\n",
      "unique values in  TechSupport  are : \n",
      "['no' 'yes' 'no_internet_service']\n",
      "unique values in  StreamingTV  are : \n",
      "['no' 'yes' 'no_internet_service']\n",
      "unique values in  StreamingMovies  are : \n",
      "['no' 'yes' 'no_internet_service']\n",
      "unique values in  Contract  are : \n",
      "['month-to-month' 'one_year' 'two_year']\n",
      "unique values in  PaperlessBilling  are : \n",
      "['yes' 'no']\n",
      "unique values in  PaymentMethod  are : \n",
      "['electronic_check' 'mailed_check' 'bank_transfer_(automatic)'\n",
      " 'credit_card_(automatic)']\n",
      "unique values in  MonthlyCharges  are : \n",
      "[29.85 56.95 53.85 ... 63.1  44.2  78.7 ]\n",
      "unique values in  TotalCharges  are : \n",
      "['29.85' '1889.5' '108.15' ... '346.45' '306.6' '6844.5']\n",
      "unique values in  Churn  are : \n",
      "['no' 'yes']\n"
     ]
    }
   ],
   "source": [
    "for col in df.columns: \n",
    "    print('unique values in ',col,' are : ')\n",
    "    print(df[col].unique())"
   ]
  },
  {
   "cell_type": "code",
   "execution_count": 11,
   "id": "199ce00e",
   "metadata": {},
   "outputs": [
    {
     "data": {
      "text/plain": [
       "0         29.85\n",
       "1       1889.50\n",
       "2        108.15\n",
       "3       1840.75\n",
       "4        151.65\n",
       "         ...   \n",
       "7038    1990.50\n",
       "7039    7362.90\n",
       "7040     346.45\n",
       "7041     306.60\n",
       "7042    6844.50\n",
       "Name: TotalCharges, Length: 7043, dtype: float64"
      ]
     },
     "execution_count": 11,
     "metadata": {},
     "output_type": "execute_result"
    }
   ],
   "source": [
    "#chang the type of TotalCharges\n",
    "tc = pd.to_numeric(df.TotalCharges,errors = 'coerce')\n",
    "tc"
   ]
  },
  {
   "cell_type": "code",
   "execution_count": 12,
   "id": "9dd36adb",
   "metadata": {},
   "outputs": [
    {
     "data": {
      "text/plain": [
       "488     _\n",
       "753     _\n",
       "936     _\n",
       "1082    _\n",
       "1340    _\n",
       "3331    _\n",
       "3826    _\n",
       "4380    _\n",
       "5218    _\n",
       "6670    _\n",
       "6754    _\n",
       "Name: TotalCharges, dtype: object"
      ]
     },
     "execution_count": 12,
     "metadata": {},
     "output_type": "execute_result"
    }
   ],
   "source": [
    "df[tc.isnull()]['TotalCharges']"
   ]
  },
  {
   "cell_type": "code",
   "execution_count": 13,
   "id": "d1e4a50e",
   "metadata": {},
   "outputs": [],
   "source": [
    "df.TotalCharges = pd.to_numeric(df.TotalCharges,errors = 'coerce')"
   ]
  },
  {
   "cell_type": "code",
   "execution_count": 14,
   "id": "7930a8f2",
   "metadata": {},
   "outputs": [],
   "source": [
    "# fill null values with 0\n",
    "df.TotalCharges = df.TotalCharges.fillna(0)"
   ]
  },
  {
   "cell_type": "code",
   "execution_count": 15,
   "id": "35893b31",
   "metadata": {},
   "outputs": [
    {
     "data": {
      "text/plain": [
       "488     0.0\n",
       "753     0.0\n",
       "936     0.0\n",
       "1082    0.0\n",
       "1340    0.0\n",
       "3331    0.0\n",
       "3826    0.0\n",
       "4380    0.0\n",
       "5218    0.0\n",
       "6670    0.0\n",
       "6754    0.0\n",
       "Name: TotalCharges, dtype: float64"
      ]
     },
     "execution_count": 15,
     "metadata": {},
     "output_type": "execute_result"
    }
   ],
   "source": [
    "df[tc.isnull()]['TotalCharges']"
   ]
  },
  {
   "cell_type": "code",
   "execution_count": 16,
   "id": "08abaab7",
   "metadata": {},
   "outputs": [
    {
     "data": {
      "text/plain": [
       "no     5174\n",
       "yes    1869\n",
       "Name: Churn, dtype: int64"
      ]
     },
     "execution_count": 16,
     "metadata": {},
     "output_type": "execute_result"
    }
   ],
   "source": [
    "df.Churn.value_counts()"
   ]
  },
  {
   "cell_type": "code",
   "execution_count": 17,
   "id": "7a7e99d0",
   "metadata": {},
   "outputs": [
    {
     "data": {
      "text/plain": [
       "0     no\n",
       "1     no\n",
       "2    yes\n",
       "3     no\n",
       "4    yes\n",
       "Name: Churn, dtype: object"
      ]
     },
     "execution_count": 17,
     "metadata": {},
     "output_type": "execute_result"
    }
   ],
   "source": [
    "df.Churn.head()"
   ]
  },
  {
   "cell_type": "code",
   "execution_count": 18,
   "id": "f919a455",
   "metadata": {},
   "outputs": [
    {
     "data": {
      "text/plain": [
       "0    0\n",
       "1    0\n",
       "2    1\n",
       "3    0\n",
       "4    1\n",
       "Name: Churn, dtype: int32"
      ]
     },
     "execution_count": 18,
     "metadata": {},
     "output_type": "execute_result"
    }
   ],
   "source": [
    "#converting Churn column to int for Classification becouse we will use it as target in the model.\n",
    "df.Churn = (df.Churn == 'yes').astype(int)\n",
    "df.Churn.head()"
   ]
  },
  {
   "cell_type": "code",
   "execution_count": 19,
   "id": "2d84b179",
   "metadata": {},
   "outputs": [
    {
     "data": {
      "text/html": [
       "<div>\n",
       "<style scoped>\n",
       "    .dataframe tbody tr th:only-of-type {\n",
       "        vertical-align: middle;\n",
       "    }\n",
       "\n",
       "    .dataframe tbody tr th {\n",
       "        vertical-align: top;\n",
       "    }\n",
       "\n",
       "    .dataframe thead th {\n",
       "        text-align: right;\n",
       "    }\n",
       "</style>\n",
       "<table border=\"1\" class=\"dataframe\">\n",
       "  <thead>\n",
       "    <tr style=\"text-align: right;\">\n",
       "      <th></th>\n",
       "      <th>0</th>\n",
       "      <th>1</th>\n",
       "      <th>2</th>\n",
       "      <th>3</th>\n",
       "      <th>4</th>\n",
       "    </tr>\n",
       "  </thead>\n",
       "  <tbody>\n",
       "    <tr>\n",
       "      <th>customerID</th>\n",
       "      <td>7590-vhveg</td>\n",
       "      <td>5575-gnvde</td>\n",
       "      <td>3668-qpybk</td>\n",
       "      <td>7795-cfocw</td>\n",
       "      <td>9237-hqitu</td>\n",
       "    </tr>\n",
       "    <tr>\n",
       "      <th>gender</th>\n",
       "      <td>female</td>\n",
       "      <td>male</td>\n",
       "      <td>male</td>\n",
       "      <td>male</td>\n",
       "      <td>female</td>\n",
       "    </tr>\n",
       "    <tr>\n",
       "      <th>SeniorCitizen</th>\n",
       "      <td>0</td>\n",
       "      <td>0</td>\n",
       "      <td>0</td>\n",
       "      <td>0</td>\n",
       "      <td>0</td>\n",
       "    </tr>\n",
       "    <tr>\n",
       "      <th>Partner</th>\n",
       "      <td>yes</td>\n",
       "      <td>no</td>\n",
       "      <td>no</td>\n",
       "      <td>no</td>\n",
       "      <td>no</td>\n",
       "    </tr>\n",
       "    <tr>\n",
       "      <th>Dependents</th>\n",
       "      <td>no</td>\n",
       "      <td>no</td>\n",
       "      <td>no</td>\n",
       "      <td>no</td>\n",
       "      <td>no</td>\n",
       "    </tr>\n",
       "    <tr>\n",
       "      <th>tenure</th>\n",
       "      <td>1</td>\n",
       "      <td>34</td>\n",
       "      <td>2</td>\n",
       "      <td>45</td>\n",
       "      <td>2</td>\n",
       "    </tr>\n",
       "    <tr>\n",
       "      <th>PhoneService</th>\n",
       "      <td>no</td>\n",
       "      <td>yes</td>\n",
       "      <td>yes</td>\n",
       "      <td>no</td>\n",
       "      <td>yes</td>\n",
       "    </tr>\n",
       "    <tr>\n",
       "      <th>MultipleLines</th>\n",
       "      <td>no_phone_service</td>\n",
       "      <td>no</td>\n",
       "      <td>no</td>\n",
       "      <td>no_phone_service</td>\n",
       "      <td>no</td>\n",
       "    </tr>\n",
       "    <tr>\n",
       "      <th>InternetService</th>\n",
       "      <td>dsl</td>\n",
       "      <td>dsl</td>\n",
       "      <td>dsl</td>\n",
       "      <td>dsl</td>\n",
       "      <td>fiber_optic</td>\n",
       "    </tr>\n",
       "    <tr>\n",
       "      <th>OnlineSecurity</th>\n",
       "      <td>no</td>\n",
       "      <td>yes</td>\n",
       "      <td>yes</td>\n",
       "      <td>yes</td>\n",
       "      <td>no</td>\n",
       "    </tr>\n",
       "    <tr>\n",
       "      <th>OnlineBackup</th>\n",
       "      <td>yes</td>\n",
       "      <td>no</td>\n",
       "      <td>yes</td>\n",
       "      <td>no</td>\n",
       "      <td>no</td>\n",
       "    </tr>\n",
       "    <tr>\n",
       "      <th>DeviceProtection</th>\n",
       "      <td>no</td>\n",
       "      <td>yes</td>\n",
       "      <td>no</td>\n",
       "      <td>yes</td>\n",
       "      <td>no</td>\n",
       "    </tr>\n",
       "    <tr>\n",
       "      <th>TechSupport</th>\n",
       "      <td>no</td>\n",
       "      <td>no</td>\n",
       "      <td>no</td>\n",
       "      <td>yes</td>\n",
       "      <td>no</td>\n",
       "    </tr>\n",
       "    <tr>\n",
       "      <th>StreamingTV</th>\n",
       "      <td>no</td>\n",
       "      <td>no</td>\n",
       "      <td>no</td>\n",
       "      <td>no</td>\n",
       "      <td>no</td>\n",
       "    </tr>\n",
       "    <tr>\n",
       "      <th>StreamingMovies</th>\n",
       "      <td>no</td>\n",
       "      <td>no</td>\n",
       "      <td>no</td>\n",
       "      <td>no</td>\n",
       "      <td>no</td>\n",
       "    </tr>\n",
       "    <tr>\n",
       "      <th>Contract</th>\n",
       "      <td>month-to-month</td>\n",
       "      <td>one_year</td>\n",
       "      <td>month-to-month</td>\n",
       "      <td>one_year</td>\n",
       "      <td>month-to-month</td>\n",
       "    </tr>\n",
       "    <tr>\n",
       "      <th>PaperlessBilling</th>\n",
       "      <td>yes</td>\n",
       "      <td>no</td>\n",
       "      <td>yes</td>\n",
       "      <td>no</td>\n",
       "      <td>yes</td>\n",
       "    </tr>\n",
       "    <tr>\n",
       "      <th>PaymentMethod</th>\n",
       "      <td>electronic_check</td>\n",
       "      <td>mailed_check</td>\n",
       "      <td>mailed_check</td>\n",
       "      <td>bank_transfer_(automatic)</td>\n",
       "      <td>electronic_check</td>\n",
       "    </tr>\n",
       "    <tr>\n",
       "      <th>MonthlyCharges</th>\n",
       "      <td>29.85</td>\n",
       "      <td>56.95</td>\n",
       "      <td>53.85</td>\n",
       "      <td>42.3</td>\n",
       "      <td>70.7</td>\n",
       "    </tr>\n",
       "    <tr>\n",
       "      <th>TotalCharges</th>\n",
       "      <td>29.85</td>\n",
       "      <td>1889.5</td>\n",
       "      <td>108.15</td>\n",
       "      <td>1840.75</td>\n",
       "      <td>151.65</td>\n",
       "    </tr>\n",
       "    <tr>\n",
       "      <th>Churn</th>\n",
       "      <td>0</td>\n",
       "      <td>0</td>\n",
       "      <td>1</td>\n",
       "      <td>0</td>\n",
       "      <td>1</td>\n",
       "    </tr>\n",
       "  </tbody>\n",
       "</table>\n",
       "</div>"
      ],
      "text/plain": [
       "                                 0             1               2  \\\n",
       "customerID              7590-vhveg    5575-gnvde      3668-qpybk   \n",
       "gender                      female          male            male   \n",
       "SeniorCitizen                    0             0               0   \n",
       "Partner                        yes            no              no   \n",
       "Dependents                      no            no              no   \n",
       "tenure                           1            34               2   \n",
       "PhoneService                    no           yes             yes   \n",
       "MultipleLines     no_phone_service            no              no   \n",
       "InternetService                dsl           dsl             dsl   \n",
       "OnlineSecurity                  no           yes             yes   \n",
       "OnlineBackup                   yes            no             yes   \n",
       "DeviceProtection                no           yes              no   \n",
       "TechSupport                     no            no              no   \n",
       "StreamingTV                     no            no              no   \n",
       "StreamingMovies                 no            no              no   \n",
       "Contract            month-to-month      one_year  month-to-month   \n",
       "PaperlessBilling               yes            no             yes   \n",
       "PaymentMethod     electronic_check  mailed_check    mailed_check   \n",
       "MonthlyCharges               29.85         56.95           53.85   \n",
       "TotalCharges                 29.85        1889.5          108.15   \n",
       "Churn                            0             0               1   \n",
       "\n",
       "                                          3                 4  \n",
       "customerID                       7795-cfocw        9237-hqitu  \n",
       "gender                                 male            female  \n",
       "SeniorCitizen                             0                 0  \n",
       "Partner                                  no                no  \n",
       "Dependents                               no                no  \n",
       "tenure                                   45                 2  \n",
       "PhoneService                             no               yes  \n",
       "MultipleLines              no_phone_service                no  \n",
       "InternetService                         dsl       fiber_optic  \n",
       "OnlineSecurity                          yes                no  \n",
       "OnlineBackup                             no                no  \n",
       "DeviceProtection                        yes                no  \n",
       "TechSupport                             yes                no  \n",
       "StreamingTV                              no                no  \n",
       "StreamingMovies                          no                no  \n",
       "Contract                           one_year    month-to-month  \n",
       "PaperlessBilling                         no               yes  \n",
       "PaymentMethod     bank_transfer_(automatic)  electronic_check  \n",
       "MonthlyCharges                         42.3              70.7  \n",
       "TotalCharges                        1840.75            151.65  \n",
       "Churn                                     0                 1  "
      ]
     },
     "execution_count": 19,
     "metadata": {},
     "output_type": "execute_result"
    }
   ],
   "source": [
    "df.head().T"
   ]
  },
  {
   "cell_type": "markdown",
   "id": "71093f39",
   "metadata": {},
   "source": [
    "# Splitting The Dataset"
   ]
  },
  {
   "cell_type": "code",
   "execution_count": 20,
   "id": "f201820b",
   "metadata": {},
   "outputs": [],
   "source": [
    "from sklearn.model_selection import train_test_split"
   ]
  },
  {
   "cell_type": "code",
   "execution_count": 21,
   "id": "126d1ce2",
   "metadata": {},
   "outputs": [],
   "source": [
    "random_state = 42"
   ]
  },
  {
   "cell_type": "code",
   "execution_count": 22,
   "id": "e2dc20bb",
   "metadata": {},
   "outputs": [],
   "source": [
    "df_full, df_test = train_test_split(df,test_size = 0.2,random_state = random_state)"
   ]
  },
  {
   "cell_type": "code",
   "execution_count": 23,
   "id": "2e204356",
   "metadata": {},
   "outputs": [
    {
     "data": {
      "text/plain": [
       "(1408.6000000000001, 1408.5)"
      ]
     },
     "execution_count": 23,
     "metadata": {},
     "output_type": "execute_result"
    }
   ],
   "source": [
    "len(df)*.20,len(df_full)*.25\n"
   ]
  },
  {
   "cell_type": "code",
   "execution_count": 24,
   "id": "52494dc2",
   "metadata": {},
   "outputs": [],
   "source": [
    "df_train,df_val = train_test_split(df_full,test_size=0.25,random_state=random_state)\n"
   ]
  },
  {
   "cell_type": "code",
   "execution_count": 25,
   "id": "17ea5d57",
   "metadata": {},
   "outputs": [
    {
     "data": {
      "text/plain": [
       "(7043, 4225, 1409, 1409, 7043)"
      ]
     },
     "execution_count": 25,
     "metadata": {},
     "output_type": "execute_result"
    }
   ],
   "source": [
    "len(df),  len(df_train),  len(df_val),  len(df_test),    (len(df_train)+len(df_val)+len(df_test))"
   ]
  },
  {
   "cell_type": "code",
   "execution_count": 26,
   "id": "9ccfff03",
   "metadata": {},
   "outputs": [
    {
     "data": {
      "text/html": [
       "<div>\n",
       "<style scoped>\n",
       "    .dataframe tbody tr th:only-of-type {\n",
       "        vertical-align: middle;\n",
       "    }\n",
       "\n",
       "    .dataframe tbody tr th {\n",
       "        vertical-align: top;\n",
       "    }\n",
       "\n",
       "    .dataframe thead th {\n",
       "        text-align: right;\n",
       "    }\n",
       "</style>\n",
       "<table border=\"1\" class=\"dataframe\">\n",
       "  <thead>\n",
       "    <tr style=\"text-align: right;\">\n",
       "      <th></th>\n",
       "      <th>customerID</th>\n",
       "      <th>gender</th>\n",
       "      <th>SeniorCitizen</th>\n",
       "      <th>Partner</th>\n",
       "      <th>Dependents</th>\n",
       "      <th>tenure</th>\n",
       "      <th>PhoneService</th>\n",
       "      <th>MultipleLines</th>\n",
       "      <th>InternetService</th>\n",
       "      <th>OnlineSecurity</th>\n",
       "      <th>...</th>\n",
       "      <th>DeviceProtection</th>\n",
       "      <th>TechSupport</th>\n",
       "      <th>StreamingTV</th>\n",
       "      <th>StreamingMovies</th>\n",
       "      <th>Contract</th>\n",
       "      <th>PaperlessBilling</th>\n",
       "      <th>PaymentMethod</th>\n",
       "      <th>MonthlyCharges</th>\n",
       "      <th>TotalCharges</th>\n",
       "      <th>Churn</th>\n",
       "    </tr>\n",
       "  </thead>\n",
       "  <tbody>\n",
       "    <tr>\n",
       "      <th>6157</th>\n",
       "      <td>6776-tlwoi</td>\n",
       "      <td>male</td>\n",
       "      <td>0</td>\n",
       "      <td>no</td>\n",
       "      <td>no</td>\n",
       "      <td>3</td>\n",
       "      <td>yes</td>\n",
       "      <td>no</td>\n",
       "      <td>no</td>\n",
       "      <td>no_internet_service</td>\n",
       "      <td>...</td>\n",
       "      <td>no_internet_service</td>\n",
       "      <td>no_internet_service</td>\n",
       "      <td>no_internet_service</td>\n",
       "      <td>no_internet_service</td>\n",
       "      <td>month-to-month</td>\n",
       "      <td>no</td>\n",
       "      <td>mailed_check</td>\n",
       "      <td>19.85</td>\n",
       "      <td>64.55</td>\n",
       "      <td>1</td>\n",
       "    </tr>\n",
       "    <tr>\n",
       "      <th>817</th>\n",
       "      <td>0036-ihmot</td>\n",
       "      <td>female</td>\n",
       "      <td>0</td>\n",
       "      <td>yes</td>\n",
       "      <td>yes</td>\n",
       "      <td>55</td>\n",
       "      <td>yes</td>\n",
       "      <td>no</td>\n",
       "      <td>fiber_optic</td>\n",
       "      <td>no</td>\n",
       "      <td>...</td>\n",
       "      <td>yes</td>\n",
       "      <td>yes</td>\n",
       "      <td>yes</td>\n",
       "      <td>yes</td>\n",
       "      <td>one_year</td>\n",
       "      <td>yes</td>\n",
       "      <td>bank_transfer_(automatic)</td>\n",
       "      <td>103.70</td>\n",
       "      <td>5656.75</td>\n",
       "      <td>0</td>\n",
       "    </tr>\n",
       "    <tr>\n",
       "      <th>6977</th>\n",
       "      <td>2843-cqmeg</td>\n",
       "      <td>male</td>\n",
       "      <td>0</td>\n",
       "      <td>no</td>\n",
       "      <td>no</td>\n",
       "      <td>24</td>\n",
       "      <td>yes</td>\n",
       "      <td>no</td>\n",
       "      <td>dsl</td>\n",
       "      <td>no</td>\n",
       "      <td>...</td>\n",
       "      <td>no</td>\n",
       "      <td>no</td>\n",
       "      <td>no</td>\n",
       "      <td>no</td>\n",
       "      <td>month-to-month</td>\n",
       "      <td>yes</td>\n",
       "      <td>mailed_check</td>\n",
       "      <td>49.70</td>\n",
       "      <td>1218.25</td>\n",
       "      <td>0</td>\n",
       "    </tr>\n",
       "    <tr>\n",
       "      <th>1932</th>\n",
       "      <td>3247-mhjkm</td>\n",
       "      <td>male</td>\n",
       "      <td>0</td>\n",
       "      <td>no</td>\n",
       "      <td>no</td>\n",
       "      <td>1</td>\n",
       "      <td>yes</td>\n",
       "      <td>no</td>\n",
       "      <td>no</td>\n",
       "      <td>no_internet_service</td>\n",
       "      <td>...</td>\n",
       "      <td>no_internet_service</td>\n",
       "      <td>no_internet_service</td>\n",
       "      <td>no_internet_service</td>\n",
       "      <td>no_internet_service</td>\n",
       "      <td>month-to-month</td>\n",
       "      <td>no</td>\n",
       "      <td>mailed_check</td>\n",
       "      <td>20.20</td>\n",
       "      <td>20.20</td>\n",
       "      <td>0</td>\n",
       "    </tr>\n",
       "    <tr>\n",
       "      <th>4168</th>\n",
       "      <td>1194-bhjyc</td>\n",
       "      <td>male</td>\n",
       "      <td>0</td>\n",
       "      <td>yes</td>\n",
       "      <td>no</td>\n",
       "      <td>61</td>\n",
       "      <td>no</td>\n",
       "      <td>no_phone_service</td>\n",
       "      <td>dsl</td>\n",
       "      <td>yes</td>\n",
       "      <td>...</td>\n",
       "      <td>yes</td>\n",
       "      <td>yes</td>\n",
       "      <td>yes</td>\n",
       "      <td>yes</td>\n",
       "      <td>two_year</td>\n",
       "      <td>yes</td>\n",
       "      <td>mailed_check</td>\n",
       "      <td>62.15</td>\n",
       "      <td>3778.85</td>\n",
       "      <td>0</td>\n",
       "    </tr>\n",
       "  </tbody>\n",
       "</table>\n",
       "<p>5 rows × 21 columns</p>\n",
       "</div>"
      ],
      "text/plain": [
       "      customerID  gender  SeniorCitizen Partner Dependents  tenure  \\\n",
       "6157  6776-tlwoi    male              0      no         no       3   \n",
       "817   0036-ihmot  female              0     yes        yes      55   \n",
       "6977  2843-cqmeg    male              0      no         no      24   \n",
       "1932  3247-mhjkm    male              0      no         no       1   \n",
       "4168  1194-bhjyc    male              0     yes         no      61   \n",
       "\n",
       "     PhoneService     MultipleLines InternetService       OnlineSecurity  ...  \\\n",
       "6157          yes                no              no  no_internet_service  ...   \n",
       "817           yes                no     fiber_optic                   no  ...   \n",
       "6977          yes                no             dsl                   no  ...   \n",
       "1932          yes                no              no  no_internet_service  ...   \n",
       "4168           no  no_phone_service             dsl                  yes  ...   \n",
       "\n",
       "         DeviceProtection          TechSupport          StreamingTV  \\\n",
       "6157  no_internet_service  no_internet_service  no_internet_service   \n",
       "817                   yes                  yes                  yes   \n",
       "6977                   no                   no                   no   \n",
       "1932  no_internet_service  no_internet_service  no_internet_service   \n",
       "4168                  yes                  yes                  yes   \n",
       "\n",
       "          StreamingMovies        Contract PaperlessBilling  \\\n",
       "6157  no_internet_service  month-to-month               no   \n",
       "817                   yes        one_year              yes   \n",
       "6977                   no  month-to-month              yes   \n",
       "1932  no_internet_service  month-to-month               no   \n",
       "4168                  yes        two_year              yes   \n",
       "\n",
       "                  PaymentMethod MonthlyCharges  TotalCharges  Churn  \n",
       "6157               mailed_check          19.85         64.55      1  \n",
       "817   bank_transfer_(automatic)         103.70       5656.75      0  \n",
       "6977               mailed_check          49.70       1218.25      0  \n",
       "1932               mailed_check          20.20         20.20      0  \n",
       "4168               mailed_check          62.15       3778.85      0  \n",
       "\n",
       "[5 rows x 21 columns]"
      ]
     },
     "execution_count": 26,
     "metadata": {},
     "output_type": "execute_result"
    }
   ],
   "source": [
    "df_train.head()"
   ]
  },
  {
   "cell_type": "code",
   "execution_count": 27,
   "id": "ae7962fa",
   "metadata": {},
   "outputs": [],
   "source": [
    "df_train = df_train.reset_index(drop = True)\n",
    "df_val = df_val.reset_index(drop = True)\n",
    "df_test = df_test.reset_index(drop = True)"
   ]
  },
  {
   "cell_type": "code",
   "execution_count": 28,
   "id": "59dd2f94",
   "metadata": {},
   "outputs": [
    {
     "data": {
      "text/html": [
       "<div>\n",
       "<style scoped>\n",
       "    .dataframe tbody tr th:only-of-type {\n",
       "        vertical-align: middle;\n",
       "    }\n",
       "\n",
       "    .dataframe tbody tr th {\n",
       "        vertical-align: top;\n",
       "    }\n",
       "\n",
       "    .dataframe thead th {\n",
       "        text-align: right;\n",
       "    }\n",
       "</style>\n",
       "<table border=\"1\" class=\"dataframe\">\n",
       "  <thead>\n",
       "    <tr style=\"text-align: right;\">\n",
       "      <th></th>\n",
       "      <th>customerID</th>\n",
       "      <th>gender</th>\n",
       "      <th>SeniorCitizen</th>\n",
       "      <th>Partner</th>\n",
       "      <th>Dependents</th>\n",
       "      <th>tenure</th>\n",
       "      <th>PhoneService</th>\n",
       "      <th>MultipleLines</th>\n",
       "      <th>InternetService</th>\n",
       "      <th>OnlineSecurity</th>\n",
       "      <th>...</th>\n",
       "      <th>DeviceProtection</th>\n",
       "      <th>TechSupport</th>\n",
       "      <th>StreamingTV</th>\n",
       "      <th>StreamingMovies</th>\n",
       "      <th>Contract</th>\n",
       "      <th>PaperlessBilling</th>\n",
       "      <th>PaymentMethod</th>\n",
       "      <th>MonthlyCharges</th>\n",
       "      <th>TotalCharges</th>\n",
       "      <th>Churn</th>\n",
       "    </tr>\n",
       "  </thead>\n",
       "  <tbody>\n",
       "    <tr>\n",
       "      <th>0</th>\n",
       "      <td>6776-tlwoi</td>\n",
       "      <td>male</td>\n",
       "      <td>0</td>\n",
       "      <td>no</td>\n",
       "      <td>no</td>\n",
       "      <td>3</td>\n",
       "      <td>yes</td>\n",
       "      <td>no</td>\n",
       "      <td>no</td>\n",
       "      <td>no_internet_service</td>\n",
       "      <td>...</td>\n",
       "      <td>no_internet_service</td>\n",
       "      <td>no_internet_service</td>\n",
       "      <td>no_internet_service</td>\n",
       "      <td>no_internet_service</td>\n",
       "      <td>month-to-month</td>\n",
       "      <td>no</td>\n",
       "      <td>mailed_check</td>\n",
       "      <td>19.85</td>\n",
       "      <td>64.55</td>\n",
       "      <td>1</td>\n",
       "    </tr>\n",
       "    <tr>\n",
       "      <th>1</th>\n",
       "      <td>0036-ihmot</td>\n",
       "      <td>female</td>\n",
       "      <td>0</td>\n",
       "      <td>yes</td>\n",
       "      <td>yes</td>\n",
       "      <td>55</td>\n",
       "      <td>yes</td>\n",
       "      <td>no</td>\n",
       "      <td>fiber_optic</td>\n",
       "      <td>no</td>\n",
       "      <td>...</td>\n",
       "      <td>yes</td>\n",
       "      <td>yes</td>\n",
       "      <td>yes</td>\n",
       "      <td>yes</td>\n",
       "      <td>one_year</td>\n",
       "      <td>yes</td>\n",
       "      <td>bank_transfer_(automatic)</td>\n",
       "      <td>103.70</td>\n",
       "      <td>5656.75</td>\n",
       "      <td>0</td>\n",
       "    </tr>\n",
       "    <tr>\n",
       "      <th>2</th>\n",
       "      <td>2843-cqmeg</td>\n",
       "      <td>male</td>\n",
       "      <td>0</td>\n",
       "      <td>no</td>\n",
       "      <td>no</td>\n",
       "      <td>24</td>\n",
       "      <td>yes</td>\n",
       "      <td>no</td>\n",
       "      <td>dsl</td>\n",
       "      <td>no</td>\n",
       "      <td>...</td>\n",
       "      <td>no</td>\n",
       "      <td>no</td>\n",
       "      <td>no</td>\n",
       "      <td>no</td>\n",
       "      <td>month-to-month</td>\n",
       "      <td>yes</td>\n",
       "      <td>mailed_check</td>\n",
       "      <td>49.70</td>\n",
       "      <td>1218.25</td>\n",
       "      <td>0</td>\n",
       "    </tr>\n",
       "    <tr>\n",
       "      <th>3</th>\n",
       "      <td>3247-mhjkm</td>\n",
       "      <td>male</td>\n",
       "      <td>0</td>\n",
       "      <td>no</td>\n",
       "      <td>no</td>\n",
       "      <td>1</td>\n",
       "      <td>yes</td>\n",
       "      <td>no</td>\n",
       "      <td>no</td>\n",
       "      <td>no_internet_service</td>\n",
       "      <td>...</td>\n",
       "      <td>no_internet_service</td>\n",
       "      <td>no_internet_service</td>\n",
       "      <td>no_internet_service</td>\n",
       "      <td>no_internet_service</td>\n",
       "      <td>month-to-month</td>\n",
       "      <td>no</td>\n",
       "      <td>mailed_check</td>\n",
       "      <td>20.20</td>\n",
       "      <td>20.20</td>\n",
       "      <td>0</td>\n",
       "    </tr>\n",
       "    <tr>\n",
       "      <th>4</th>\n",
       "      <td>1194-bhjyc</td>\n",
       "      <td>male</td>\n",
       "      <td>0</td>\n",
       "      <td>yes</td>\n",
       "      <td>no</td>\n",
       "      <td>61</td>\n",
       "      <td>no</td>\n",
       "      <td>no_phone_service</td>\n",
       "      <td>dsl</td>\n",
       "      <td>yes</td>\n",
       "      <td>...</td>\n",
       "      <td>yes</td>\n",
       "      <td>yes</td>\n",
       "      <td>yes</td>\n",
       "      <td>yes</td>\n",
       "      <td>two_year</td>\n",
       "      <td>yes</td>\n",
       "      <td>mailed_check</td>\n",
       "      <td>62.15</td>\n",
       "      <td>3778.85</td>\n",
       "      <td>0</td>\n",
       "    </tr>\n",
       "  </tbody>\n",
       "</table>\n",
       "<p>5 rows × 21 columns</p>\n",
       "</div>"
      ],
      "text/plain": [
       "   customerID  gender  SeniorCitizen Partner Dependents  tenure PhoneService  \\\n",
       "0  6776-tlwoi    male              0      no         no       3          yes   \n",
       "1  0036-ihmot  female              0     yes        yes      55          yes   \n",
       "2  2843-cqmeg    male              0      no         no      24          yes   \n",
       "3  3247-mhjkm    male              0      no         no       1          yes   \n",
       "4  1194-bhjyc    male              0     yes         no      61           no   \n",
       "\n",
       "      MultipleLines InternetService       OnlineSecurity  ...  \\\n",
       "0                no              no  no_internet_service  ...   \n",
       "1                no     fiber_optic                   no  ...   \n",
       "2                no             dsl                   no  ...   \n",
       "3                no              no  no_internet_service  ...   \n",
       "4  no_phone_service             dsl                  yes  ...   \n",
       "\n",
       "      DeviceProtection          TechSupport          StreamingTV  \\\n",
       "0  no_internet_service  no_internet_service  no_internet_service   \n",
       "1                  yes                  yes                  yes   \n",
       "2                   no                   no                   no   \n",
       "3  no_internet_service  no_internet_service  no_internet_service   \n",
       "4                  yes                  yes                  yes   \n",
       "\n",
       "       StreamingMovies        Contract PaperlessBilling  \\\n",
       "0  no_internet_service  month-to-month               no   \n",
       "1                  yes        one_year              yes   \n",
       "2                   no  month-to-month              yes   \n",
       "3  no_internet_service  month-to-month               no   \n",
       "4                  yes        two_year              yes   \n",
       "\n",
       "               PaymentMethod MonthlyCharges  TotalCharges  Churn  \n",
       "0               mailed_check          19.85         64.55      1  \n",
       "1  bank_transfer_(automatic)         103.70       5656.75      0  \n",
       "2               mailed_check          49.70       1218.25      0  \n",
       "3               mailed_check          20.20         20.20      0  \n",
       "4               mailed_check          62.15       3778.85      0  \n",
       "\n",
       "[5 rows x 21 columns]"
      ]
     },
     "execution_count": 28,
     "metadata": {},
     "output_type": "execute_result"
    }
   ],
   "source": [
    "df_train.head()"
   ]
  },
  {
   "cell_type": "code",
   "execution_count": 29,
   "id": "f34ef438",
   "metadata": {},
   "outputs": [
    {
     "data": {
      "text/plain": [
       "array([1, 0, 0, ..., 0, 0, 0])"
      ]
     },
     "execution_count": 29,
     "metadata": {},
     "output_type": "execute_result"
    }
   ],
   "source": [
    "y_train = df_train.Churn.values\n",
    "y_val = df_val.Churn.values\n",
    "y_test = df_test.Churn.values\n",
    "y_train"
   ]
  },
  {
   "cell_type": "code",
   "execution_count": 30,
   "id": "a96b2de4",
   "metadata": {},
   "outputs": [
    {
     "data": {
      "text/html": [
       "<div>\n",
       "<style scoped>\n",
       "    .dataframe tbody tr th:only-of-type {\n",
       "        vertical-align: middle;\n",
       "    }\n",
       "\n",
       "    .dataframe tbody tr th {\n",
       "        vertical-align: top;\n",
       "    }\n",
       "\n",
       "    .dataframe thead th {\n",
       "        text-align: right;\n",
       "    }\n",
       "</style>\n",
       "<table border=\"1\" class=\"dataframe\">\n",
       "  <thead>\n",
       "    <tr style=\"text-align: right;\">\n",
       "      <th></th>\n",
       "      <th>customerID</th>\n",
       "      <th>gender</th>\n",
       "      <th>SeniorCitizen</th>\n",
       "      <th>Partner</th>\n",
       "      <th>Dependents</th>\n",
       "      <th>tenure</th>\n",
       "      <th>PhoneService</th>\n",
       "      <th>MultipleLines</th>\n",
       "      <th>InternetService</th>\n",
       "      <th>OnlineSecurity</th>\n",
       "      <th>OnlineBackup</th>\n",
       "      <th>DeviceProtection</th>\n",
       "      <th>TechSupport</th>\n",
       "      <th>StreamingTV</th>\n",
       "      <th>StreamingMovies</th>\n",
       "      <th>Contract</th>\n",
       "      <th>PaperlessBilling</th>\n",
       "      <th>PaymentMethod</th>\n",
       "      <th>MonthlyCharges</th>\n",
       "      <th>TotalCharges</th>\n",
       "    </tr>\n",
       "  </thead>\n",
       "  <tbody>\n",
       "    <tr>\n",
       "      <th>0</th>\n",
       "      <td>6776-tlwoi</td>\n",
       "      <td>male</td>\n",
       "      <td>0</td>\n",
       "      <td>no</td>\n",
       "      <td>no</td>\n",
       "      <td>3</td>\n",
       "      <td>yes</td>\n",
       "      <td>no</td>\n",
       "      <td>no</td>\n",
       "      <td>no_internet_service</td>\n",
       "      <td>no_internet_service</td>\n",
       "      <td>no_internet_service</td>\n",
       "      <td>no_internet_service</td>\n",
       "      <td>no_internet_service</td>\n",
       "      <td>no_internet_service</td>\n",
       "      <td>month-to-month</td>\n",
       "      <td>no</td>\n",
       "      <td>mailed_check</td>\n",
       "      <td>19.85</td>\n",
       "      <td>64.55</td>\n",
       "    </tr>\n",
       "    <tr>\n",
       "      <th>1</th>\n",
       "      <td>0036-ihmot</td>\n",
       "      <td>female</td>\n",
       "      <td>0</td>\n",
       "      <td>yes</td>\n",
       "      <td>yes</td>\n",
       "      <td>55</td>\n",
       "      <td>yes</td>\n",
       "      <td>no</td>\n",
       "      <td>fiber_optic</td>\n",
       "      <td>no</td>\n",
       "      <td>yes</td>\n",
       "      <td>yes</td>\n",
       "      <td>yes</td>\n",
       "      <td>yes</td>\n",
       "      <td>yes</td>\n",
       "      <td>one_year</td>\n",
       "      <td>yes</td>\n",
       "      <td>bank_transfer_(automatic)</td>\n",
       "      <td>103.70</td>\n",
       "      <td>5656.75</td>\n",
       "    </tr>\n",
       "    <tr>\n",
       "      <th>2</th>\n",
       "      <td>2843-cqmeg</td>\n",
       "      <td>male</td>\n",
       "      <td>0</td>\n",
       "      <td>no</td>\n",
       "      <td>no</td>\n",
       "      <td>24</td>\n",
       "      <td>yes</td>\n",
       "      <td>no</td>\n",
       "      <td>dsl</td>\n",
       "      <td>no</td>\n",
       "      <td>yes</td>\n",
       "      <td>no</td>\n",
       "      <td>no</td>\n",
       "      <td>no</td>\n",
       "      <td>no</td>\n",
       "      <td>month-to-month</td>\n",
       "      <td>yes</td>\n",
       "      <td>mailed_check</td>\n",
       "      <td>49.70</td>\n",
       "      <td>1218.25</td>\n",
       "    </tr>\n",
       "    <tr>\n",
       "      <th>3</th>\n",
       "      <td>3247-mhjkm</td>\n",
       "      <td>male</td>\n",
       "      <td>0</td>\n",
       "      <td>no</td>\n",
       "      <td>no</td>\n",
       "      <td>1</td>\n",
       "      <td>yes</td>\n",
       "      <td>no</td>\n",
       "      <td>no</td>\n",
       "      <td>no_internet_service</td>\n",
       "      <td>no_internet_service</td>\n",
       "      <td>no_internet_service</td>\n",
       "      <td>no_internet_service</td>\n",
       "      <td>no_internet_service</td>\n",
       "      <td>no_internet_service</td>\n",
       "      <td>month-to-month</td>\n",
       "      <td>no</td>\n",
       "      <td>mailed_check</td>\n",
       "      <td>20.20</td>\n",
       "      <td>20.20</td>\n",
       "    </tr>\n",
       "    <tr>\n",
       "      <th>4</th>\n",
       "      <td>1194-bhjyc</td>\n",
       "      <td>male</td>\n",
       "      <td>0</td>\n",
       "      <td>yes</td>\n",
       "      <td>no</td>\n",
       "      <td>61</td>\n",
       "      <td>no</td>\n",
       "      <td>no_phone_service</td>\n",
       "      <td>dsl</td>\n",
       "      <td>yes</td>\n",
       "      <td>no</td>\n",
       "      <td>yes</td>\n",
       "      <td>yes</td>\n",
       "      <td>yes</td>\n",
       "      <td>yes</td>\n",
       "      <td>two_year</td>\n",
       "      <td>yes</td>\n",
       "      <td>mailed_check</td>\n",
       "      <td>62.15</td>\n",
       "      <td>3778.85</td>\n",
       "    </tr>\n",
       "  </tbody>\n",
       "</table>\n",
       "</div>"
      ],
      "text/plain": [
       "   customerID  gender  SeniorCitizen Partner Dependents  tenure PhoneService  \\\n",
       "0  6776-tlwoi    male              0      no         no       3          yes   \n",
       "1  0036-ihmot  female              0     yes        yes      55          yes   \n",
       "2  2843-cqmeg    male              0      no         no      24          yes   \n",
       "3  3247-mhjkm    male              0      no         no       1          yes   \n",
       "4  1194-bhjyc    male              0     yes         no      61           no   \n",
       "\n",
       "      MultipleLines InternetService       OnlineSecurity         OnlineBackup  \\\n",
       "0                no              no  no_internet_service  no_internet_service   \n",
       "1                no     fiber_optic                   no                  yes   \n",
       "2                no             dsl                   no                  yes   \n",
       "3                no              no  no_internet_service  no_internet_service   \n",
       "4  no_phone_service             dsl                  yes                   no   \n",
       "\n",
       "      DeviceProtection          TechSupport          StreamingTV  \\\n",
       "0  no_internet_service  no_internet_service  no_internet_service   \n",
       "1                  yes                  yes                  yes   \n",
       "2                   no                   no                   no   \n",
       "3  no_internet_service  no_internet_service  no_internet_service   \n",
       "4                  yes                  yes                  yes   \n",
       "\n",
       "       StreamingMovies        Contract PaperlessBilling  \\\n",
       "0  no_internet_service  month-to-month               no   \n",
       "1                  yes        one_year              yes   \n",
       "2                   no  month-to-month              yes   \n",
       "3  no_internet_service  month-to-month               no   \n",
       "4                  yes        two_year              yes   \n",
       "\n",
       "               PaymentMethod  MonthlyCharges  TotalCharges  \n",
       "0               mailed_check           19.85         64.55  \n",
       "1  bank_transfer_(automatic)          103.70       5656.75  \n",
       "2               mailed_check           49.70       1218.25  \n",
       "3               mailed_check           20.20         20.20  \n",
       "4               mailed_check           62.15       3778.85  "
      ]
     },
     "execution_count": 30,
     "metadata": {},
     "output_type": "execute_result"
    }
   ],
   "source": [
    "df_train.drop(columns='Churn',axis = 1, inplace=True)\n",
    "df_val.drop(columns='Churn',axis = 1, inplace=True)\n",
    "df_test.drop(columns='Churn',axis = 1, inplace=True)\n",
    "df_train.head()"
   ]
  },
  {
   "cell_type": "markdown",
   "id": "e3c63d0c",
   "metadata": {},
   "source": [
    "# Importance & Ratios"
   ]
  },
  {
   "cell_type": "markdown",
   "id": "796e8c99",
   "metadata": {},
   "source": [
    "Global Churn Ratio\n",
    "\n",
    "Ratio of Churn with Another Feature\n",
    "\n",
    "Risk of Churn\n"
   ]
  },
  {
   "cell_type": "code",
   "execution_count": 31,
   "id": "36500eee",
   "metadata": {},
   "outputs": [
    {
     "data": {
      "text/plain": [
       "0    4138\n",
       "1    1496\n",
       "Name: Churn, dtype: int64"
      ]
     },
     "execution_count": 31,
     "metadata": {},
     "output_type": "execute_result"
    }
   ],
   "source": [
    "df_full.Churn.value_counts()"
   ]
  },
  {
   "cell_type": "code",
   "execution_count": 32,
   "id": "7e901959",
   "metadata": {},
   "outputs": [
    {
     "name": "stdout",
     "output_type": "stream",
     "text": [
      "Ratio Of Churn Customers : 0.2655307064252751\n"
     ]
    }
   ],
   "source": [
    "global_churn_ratio =df_full.Churn.mean()\n",
    "print('Ratio Of Churn Customers :',global_churn_ratio)"
   ]
  },
  {
   "cell_type": "code",
   "execution_count": 33,
   "id": "ae177ff8",
   "metadata": {},
   "outputs": [
    {
     "data": {
      "text/plain": [
       "2887"
      ]
     },
     "execution_count": 33,
     "metadata": {},
     "output_type": "execute_result"
    }
   ],
   "source": [
    "(df_full.gender=='male').astype(int).sum()"
   ]
  },
  {
   "cell_type": "code",
   "execution_count": 34,
   "id": "0d9c2b68",
   "metadata": {},
   "outputs": [
    {
     "name": "stdout",
     "output_type": "stream",
     "text": [
      "The Ration of Churn From Female : 0.2708409173643975\n"
     ]
    }
   ],
   "source": [
    "ratio_churn_female = df_full[df_full.gender=='female'].Churn.mean()\n",
    "print('The Ration of Churn From Female :', ratio_churn_female)"
   ]
  },
  {
   "cell_type": "code",
   "execution_count": 35,
   "id": "33428139",
   "metadata": {},
   "outputs": [
    {
     "name": "stdout",
     "output_type": "stream",
     "text": [
      "The Ration of Churn From male : 0.26047800484932454\n"
     ]
    }
   ],
   "source": [
    "ratio_churn_male = df_full[df_full.gender=='male'].Churn.mean()\n",
    "print('The Ration of Churn From male :', ratio_churn_male)"
   ]
  },
  {
   "cell_type": "code",
   "execution_count": 36,
   "id": "45a6f395",
   "metadata": {},
   "outputs": [
    {
     "data": {
      "text/plain": [
       "no     2904\n",
       "yes    2730\n",
       "Name: Partner, dtype: int64"
      ]
     },
     "execution_count": 36,
     "metadata": {},
     "output_type": "execute_result"
    }
   ],
   "source": [
    "df_full.Partner.value_counts()"
   ]
  },
  {
   "cell_type": "code",
   "execution_count": 37,
   "id": "f3221471",
   "metadata": {},
   "outputs": [
    {
     "name": "stdout",
     "output_type": "stream",
     "text": [
      "The Ration of Churn For Who Has Partner : 0.20073260073260074\n"
     ]
    }
   ],
   "source": [
    "ratio_churn_partner = df_full[df_full.Partner=='yes'].Churn.mean()\n",
    "print('The Ration of Churn For Who Has Partner :', ratio_churn_partner)"
   ]
  },
  {
   "cell_type": "code",
   "execution_count": 38,
   "id": "236c9215",
   "metadata": {},
   "outputs": [
    {
     "name": "stdout",
     "output_type": "stream",
     "text": [
      "The Ration of Churn For Who Has NO Partner : 0.32644628099173556\n"
     ]
    }
   ],
   "source": [
    "ratio_churn_no_partner = df_full[df_full.Partner=='no'].Churn.mean()\n",
    "print('The Ration of Churn For Who Has NO Partner :', ratio_churn_no_partner)"
   ]
  },
  {
   "cell_type": "code",
   "execution_count": 39,
   "id": "28a0a9b9",
   "metadata": {},
   "outputs": [
    {
     "name": "stdout",
     "output_type": "stream",
     "text": [
      "The Risk Of Churn for who has Partener : 0.7559675618499149\n"
     ]
    }
   ],
   "source": [
    "print('The Risk Of Churn for who has Partener :',ratio_churn_partner/global_churn_ratio)"
   ]
  },
  {
   "cell_type": "code",
   "execution_count": 40,
   "id": "04c6c125",
   "metadata": {},
   "outputs": [
    {
     "name": "stdout",
     "output_type": "stream",
     "text": [
      "The Risk Of Churn for who has no Partener : 1.2294106598311754\n"
     ]
    }
   ],
   "source": [
    "print('The Risk Of Churn for who has no Partener :',ratio_churn_no_partner/global_churn_ratio)"
   ]
  },
  {
   "cell_type": "code",
   "execution_count": 41,
   "id": "a064d7a5",
   "metadata": {},
   "outputs": [
    {
     "name": "stdout",
     "output_type": "stream",
     "text": [
      "The Risk Of Churn for females : 1.0199984815715346\n"
     ]
    }
   ],
   "source": [
    "print('The Risk Of Churn for females :',ratio_churn_female/global_churn_ratio)"
   ]
  },
  {
   "cell_type": "code",
   "execution_count": 42,
   "id": "be84f5ac",
   "metadata": {},
   "outputs": [
    {
     "name": "stdout",
     "output_type": "stream",
     "text": [
      "The Risk Of Churn for males : 0.9809713097066141\n"
     ]
    }
   ],
   "source": [
    "print('The Risk Of Churn for males :',ratio_churn_male/global_churn_ratio)"
   ]
  },
  {
   "cell_type": "code",
   "execution_count": 43,
   "id": "20a474a6",
   "metadata": {},
   "outputs": [],
   "source": [
    "categorical_columns = [ 'gender',  'SeniorCitizen','Partner', 'Dependents',\n",
    "       'PhoneService', 'MultipleLines', 'InternetService',\n",
    "       'OnlineSecurity', 'OnlineBackup', 'DeviceProtection', 'TechSupport',\n",
    "       'StreamingTV', 'StreamingMovies', 'Contract', 'PaperlessBilling',\n",
    "       'PaymentMethod']"
   ]
  },
  {
   "cell_type": "code",
   "execution_count": 44,
   "id": "fc549d39",
   "metadata": {},
   "outputs": [],
   "source": [
    "from IPython.display import display"
   ]
  },
  {
   "cell_type": "code",
   "execution_count": 45,
   "id": "98b17970",
   "metadata": {},
   "outputs": [
    {
     "data": {
      "text/html": [
       "<div>\n",
       "<style scoped>\n",
       "    .dataframe tbody tr th:only-of-type {\n",
       "        vertical-align: middle;\n",
       "    }\n",
       "\n",
       "    .dataframe tbody tr th {\n",
       "        vertical-align: top;\n",
       "    }\n",
       "\n",
       "    .dataframe thead th {\n",
       "        text-align: right;\n",
       "    }\n",
       "</style>\n",
       "<table border=\"1\" class=\"dataframe\">\n",
       "  <thead>\n",
       "    <tr style=\"text-align: right;\">\n",
       "      <th></th>\n",
       "      <th>mean</th>\n",
       "      <th>count</th>\n",
       "      <th>Risk</th>\n",
       "      <th>difference</th>\n",
       "    </tr>\n",
       "    <tr>\n",
       "      <th>gender</th>\n",
       "      <th></th>\n",
       "      <th></th>\n",
       "      <th></th>\n",
       "      <th></th>\n",
       "    </tr>\n",
       "  </thead>\n",
       "  <tbody>\n",
       "    <tr>\n",
       "      <th>female</th>\n",
       "      <td>0.270841</td>\n",
       "      <td>2747</td>\n",
       "      <td>1.019998</td>\n",
       "      <td>0.005310</td>\n",
       "    </tr>\n",
       "    <tr>\n",
       "      <th>male</th>\n",
       "      <td>0.260478</td>\n",
       "      <td>2887</td>\n",
       "      <td>0.980971</td>\n",
       "      <td>-0.005053</td>\n",
       "    </tr>\n",
       "  </tbody>\n",
       "</table>\n",
       "</div>"
      ],
      "text/plain": [
       "            mean  count      Risk  difference\n",
       "gender                                       \n",
       "female  0.270841   2747  1.019998    0.005310\n",
       "male    0.260478   2887  0.980971   -0.005053"
      ]
     },
     "metadata": {},
     "output_type": "display_data"
    },
    {
     "data": {
      "text/html": [
       "<div>\n",
       "<style scoped>\n",
       "    .dataframe tbody tr th:only-of-type {\n",
       "        vertical-align: middle;\n",
       "    }\n",
       "\n",
       "    .dataframe tbody tr th {\n",
       "        vertical-align: top;\n",
       "    }\n",
       "\n",
       "    .dataframe thead th {\n",
       "        text-align: right;\n",
       "    }\n",
       "</style>\n",
       "<table border=\"1\" class=\"dataframe\">\n",
       "  <thead>\n",
       "    <tr style=\"text-align: right;\">\n",
       "      <th></th>\n",
       "      <th>mean</th>\n",
       "      <th>count</th>\n",
       "      <th>Risk</th>\n",
       "      <th>difference</th>\n",
       "    </tr>\n",
       "    <tr>\n",
       "      <th>SeniorCitizen</th>\n",
       "      <th></th>\n",
       "      <th></th>\n",
       "      <th></th>\n",
       "      <th></th>\n",
       "    </tr>\n",
       "  </thead>\n",
       "  <tbody>\n",
       "    <tr>\n",
       "      <th>0</th>\n",
       "      <td>0.237098</td>\n",
       "      <td>4728</td>\n",
       "      <td>0.892922</td>\n",
       "      <td>-0.028433</td>\n",
       "    </tr>\n",
       "    <tr>\n",
       "      <th>1</th>\n",
       "      <td>0.413907</td>\n",
       "      <td>906</td>\n",
       "      <td>1.558793</td>\n",
       "      <td>0.148377</td>\n",
       "    </tr>\n",
       "  </tbody>\n",
       "</table>\n",
       "</div>"
      ],
      "text/plain": [
       "                   mean  count      Risk  difference\n",
       "SeniorCitizen                                       \n",
       "0              0.237098   4728  0.892922   -0.028433\n",
       "1              0.413907    906  1.558793    0.148377"
      ]
     },
     "metadata": {},
     "output_type": "display_data"
    },
    {
     "data": {
      "text/html": [
       "<div>\n",
       "<style scoped>\n",
       "    .dataframe tbody tr th:only-of-type {\n",
       "        vertical-align: middle;\n",
       "    }\n",
       "\n",
       "    .dataframe tbody tr th {\n",
       "        vertical-align: top;\n",
       "    }\n",
       "\n",
       "    .dataframe thead th {\n",
       "        text-align: right;\n",
       "    }\n",
       "</style>\n",
       "<table border=\"1\" class=\"dataframe\">\n",
       "  <thead>\n",
       "    <tr style=\"text-align: right;\">\n",
       "      <th></th>\n",
       "      <th>mean</th>\n",
       "      <th>count</th>\n",
       "      <th>Risk</th>\n",
       "      <th>difference</th>\n",
       "    </tr>\n",
       "    <tr>\n",
       "      <th>Partner</th>\n",
       "      <th></th>\n",
       "      <th></th>\n",
       "      <th></th>\n",
       "      <th></th>\n",
       "    </tr>\n",
       "  </thead>\n",
       "  <tbody>\n",
       "    <tr>\n",
       "      <th>no</th>\n",
       "      <td>0.326446</td>\n",
       "      <td>2904</td>\n",
       "      <td>1.229411</td>\n",
       "      <td>0.060916</td>\n",
       "    </tr>\n",
       "    <tr>\n",
       "      <th>yes</th>\n",
       "      <td>0.200733</td>\n",
       "      <td>2730</td>\n",
       "      <td>0.755968</td>\n",
       "      <td>-0.064798</td>\n",
       "    </tr>\n",
       "  </tbody>\n",
       "</table>\n",
       "</div>"
      ],
      "text/plain": [
       "             mean  count      Risk  difference\n",
       "Partner                                       \n",
       "no       0.326446   2904  1.229411    0.060916\n",
       "yes      0.200733   2730  0.755968   -0.064798"
      ]
     },
     "metadata": {},
     "output_type": "display_data"
    },
    {
     "data": {
      "text/html": [
       "<div>\n",
       "<style scoped>\n",
       "    .dataframe tbody tr th:only-of-type {\n",
       "        vertical-align: middle;\n",
       "    }\n",
       "\n",
       "    .dataframe tbody tr th {\n",
       "        vertical-align: top;\n",
       "    }\n",
       "\n",
       "    .dataframe thead th {\n",
       "        text-align: right;\n",
       "    }\n",
       "</style>\n",
       "<table border=\"1\" class=\"dataframe\">\n",
       "  <thead>\n",
       "    <tr style=\"text-align: right;\">\n",
       "      <th></th>\n",
       "      <th>mean</th>\n",
       "      <th>count</th>\n",
       "      <th>Risk</th>\n",
       "      <th>difference</th>\n",
       "    </tr>\n",
       "    <tr>\n",
       "      <th>Dependents</th>\n",
       "      <th></th>\n",
       "      <th></th>\n",
       "      <th></th>\n",
       "      <th></th>\n",
       "    </tr>\n",
       "  </thead>\n",
       "  <tbody>\n",
       "    <tr>\n",
       "      <th>no</th>\n",
       "      <td>0.312326</td>\n",
       "      <td>3951</td>\n",
       "      <td>1.176233</td>\n",
       "      <td>0.046795</td>\n",
       "    </tr>\n",
       "    <tr>\n",
       "      <th>yes</th>\n",
       "      <td>0.155674</td>\n",
       "      <td>1683</td>\n",
       "      <td>0.586276</td>\n",
       "      <td>-0.109856</td>\n",
       "    </tr>\n",
       "  </tbody>\n",
       "</table>\n",
       "</div>"
      ],
      "text/plain": [
       "                mean  count      Risk  difference\n",
       "Dependents                                       \n",
       "no          0.312326   3951  1.176233    0.046795\n",
       "yes         0.155674   1683  0.586276   -0.109856"
      ]
     },
     "metadata": {},
     "output_type": "display_data"
    },
    {
     "data": {
      "text/html": [
       "<div>\n",
       "<style scoped>\n",
       "    .dataframe tbody tr th:only-of-type {\n",
       "        vertical-align: middle;\n",
       "    }\n",
       "\n",
       "    .dataframe tbody tr th {\n",
       "        vertical-align: top;\n",
       "    }\n",
       "\n",
       "    .dataframe thead th {\n",
       "        text-align: right;\n",
       "    }\n",
       "</style>\n",
       "<table border=\"1\" class=\"dataframe\">\n",
       "  <thead>\n",
       "    <tr style=\"text-align: right;\">\n",
       "      <th></th>\n",
       "      <th>mean</th>\n",
       "      <th>count</th>\n",
       "      <th>Risk</th>\n",
       "      <th>difference</th>\n",
       "    </tr>\n",
       "    <tr>\n",
       "      <th>PhoneService</th>\n",
       "      <th></th>\n",
       "      <th></th>\n",
       "      <th></th>\n",
       "      <th></th>\n",
       "    </tr>\n",
       "  </thead>\n",
       "  <tbody>\n",
       "    <tr>\n",
       "      <th>no</th>\n",
       "      <td>0.253623</td>\n",
       "      <td>552</td>\n",
       "      <td>0.955156</td>\n",
       "      <td>-0.011908</td>\n",
       "    </tr>\n",
       "    <tr>\n",
       "      <th>yes</th>\n",
       "      <td>0.266824</td>\n",
       "      <td>5082</td>\n",
       "      <td>1.004871</td>\n",
       "      <td>0.001293</td>\n",
       "    </tr>\n",
       "  </tbody>\n",
       "</table>\n",
       "</div>"
      ],
      "text/plain": [
       "                  mean  count      Risk  difference\n",
       "PhoneService                                       \n",
       "no            0.253623    552  0.955156   -0.011908\n",
       "yes           0.266824   5082  1.004871    0.001293"
      ]
     },
     "metadata": {},
     "output_type": "display_data"
    },
    {
     "data": {
      "text/html": [
       "<div>\n",
       "<style scoped>\n",
       "    .dataframe tbody tr th:only-of-type {\n",
       "        vertical-align: middle;\n",
       "    }\n",
       "\n",
       "    .dataframe tbody tr th {\n",
       "        vertical-align: top;\n",
       "    }\n",
       "\n",
       "    .dataframe thead th {\n",
       "        text-align: right;\n",
       "    }\n",
       "</style>\n",
       "<table border=\"1\" class=\"dataframe\">\n",
       "  <thead>\n",
       "    <tr style=\"text-align: right;\">\n",
       "      <th></th>\n",
       "      <th>mean</th>\n",
       "      <th>count</th>\n",
       "      <th>Risk</th>\n",
       "      <th>difference</th>\n",
       "    </tr>\n",
       "    <tr>\n",
       "      <th>MultipleLines</th>\n",
       "      <th></th>\n",
       "      <th></th>\n",
       "      <th></th>\n",
       "      <th></th>\n",
       "    </tr>\n",
       "  </thead>\n",
       "  <tbody>\n",
       "    <tr>\n",
       "      <th>no</th>\n",
       "      <td>0.251397</td>\n",
       "      <td>2685</td>\n",
       "      <td>0.946771</td>\n",
       "      <td>-0.014134</td>\n",
       "    </tr>\n",
       "    <tr>\n",
       "      <th>no_phone_service</th>\n",
       "      <td>0.253623</td>\n",
       "      <td>552</td>\n",
       "      <td>0.955156</td>\n",
       "      <td>-0.011908</td>\n",
       "    </tr>\n",
       "    <tr>\n",
       "      <th>yes</th>\n",
       "      <td>0.284105</td>\n",
       "      <td>2397</td>\n",
       "      <td>1.069952</td>\n",
       "      <td>0.018574</td>\n",
       "    </tr>\n",
       "  </tbody>\n",
       "</table>\n",
       "</div>"
      ],
      "text/plain": [
       "                      mean  count      Risk  difference\n",
       "MultipleLines                                          \n",
       "no                0.251397   2685  0.946771   -0.014134\n",
       "no_phone_service  0.253623    552  0.955156   -0.011908\n",
       "yes               0.284105   2397  1.069952    0.018574"
      ]
     },
     "metadata": {},
     "output_type": "display_data"
    },
    {
     "data": {
      "text/html": [
       "<div>\n",
       "<style scoped>\n",
       "    .dataframe tbody tr th:only-of-type {\n",
       "        vertical-align: middle;\n",
       "    }\n",
       "\n",
       "    .dataframe tbody tr th {\n",
       "        vertical-align: top;\n",
       "    }\n",
       "\n",
       "    .dataframe thead th {\n",
       "        text-align: right;\n",
       "    }\n",
       "</style>\n",
       "<table border=\"1\" class=\"dataframe\">\n",
       "  <thead>\n",
       "    <tr style=\"text-align: right;\">\n",
       "      <th></th>\n",
       "      <th>mean</th>\n",
       "      <th>count</th>\n",
       "      <th>Risk</th>\n",
       "      <th>difference</th>\n",
       "    </tr>\n",
       "    <tr>\n",
       "      <th>InternetService</th>\n",
       "      <th></th>\n",
       "      <th></th>\n",
       "      <th></th>\n",
       "      <th></th>\n",
       "    </tr>\n",
       "  </thead>\n",
       "  <tbody>\n",
       "    <tr>\n",
       "      <th>dsl</th>\n",
       "      <td>0.191851</td>\n",
       "      <td>1939</td>\n",
       "      <td>0.722521</td>\n",
       "      <td>-0.073679</td>\n",
       "    </tr>\n",
       "    <tr>\n",
       "      <th>fiber_optic</th>\n",
       "      <td>0.415558</td>\n",
       "      <td>2481</td>\n",
       "      <td>1.565010</td>\n",
       "      <td>0.150028</td>\n",
       "    </tr>\n",
       "    <tr>\n",
       "      <th>no</th>\n",
       "      <td>0.076606</td>\n",
       "      <td>1214</td>\n",
       "      <td>0.288502</td>\n",
       "      <td>-0.188924</td>\n",
       "    </tr>\n",
       "  </tbody>\n",
       "</table>\n",
       "</div>"
      ],
      "text/plain": [
       "                     mean  count      Risk  difference\n",
       "InternetService                                       \n",
       "dsl              0.191851   1939  0.722521   -0.073679\n",
       "fiber_optic      0.415558   2481  1.565010    0.150028\n",
       "no               0.076606   1214  0.288502   -0.188924"
      ]
     },
     "metadata": {},
     "output_type": "display_data"
    },
    {
     "data": {
      "text/html": [
       "<div>\n",
       "<style scoped>\n",
       "    .dataframe tbody tr th:only-of-type {\n",
       "        vertical-align: middle;\n",
       "    }\n",
       "\n",
       "    .dataframe tbody tr th {\n",
       "        vertical-align: top;\n",
       "    }\n",
       "\n",
       "    .dataframe thead th {\n",
       "        text-align: right;\n",
       "    }\n",
       "</style>\n",
       "<table border=\"1\" class=\"dataframe\">\n",
       "  <thead>\n",
       "    <tr style=\"text-align: right;\">\n",
       "      <th></th>\n",
       "      <th>mean</th>\n",
       "      <th>count</th>\n",
       "      <th>Risk</th>\n",
       "      <th>difference</th>\n",
       "    </tr>\n",
       "    <tr>\n",
       "      <th>OnlineSecurity</th>\n",
       "      <th></th>\n",
       "      <th></th>\n",
       "      <th></th>\n",
       "      <th></th>\n",
       "    </tr>\n",
       "  </thead>\n",
       "  <tbody>\n",
       "    <tr>\n",
       "      <th>no</th>\n",
       "      <td>0.416014</td>\n",
       "      <td>2810</td>\n",
       "      <td>1.566727</td>\n",
       "      <td>0.150484</td>\n",
       "    </tr>\n",
       "    <tr>\n",
       "      <th>no_internet_service</th>\n",
       "      <td>0.076606</td>\n",
       "      <td>1214</td>\n",
       "      <td>0.288502</td>\n",
       "      <td>-0.188924</td>\n",
       "    </tr>\n",
       "    <tr>\n",
       "      <th>yes</th>\n",
       "      <td>0.145342</td>\n",
       "      <td>1610</td>\n",
       "      <td>0.547363</td>\n",
       "      <td>-0.120189</td>\n",
       "    </tr>\n",
       "  </tbody>\n",
       "</table>\n",
       "</div>"
      ],
      "text/plain": [
       "                         mean  count      Risk  difference\n",
       "OnlineSecurity                                            \n",
       "no                   0.416014   2810  1.566727    0.150484\n",
       "no_internet_service  0.076606   1214  0.288502   -0.188924\n",
       "yes                  0.145342   1610  0.547363   -0.120189"
      ]
     },
     "metadata": {},
     "output_type": "display_data"
    },
    {
     "data": {
      "text/html": [
       "<div>\n",
       "<style scoped>\n",
       "    .dataframe tbody tr th:only-of-type {\n",
       "        vertical-align: middle;\n",
       "    }\n",
       "\n",
       "    .dataframe tbody tr th {\n",
       "        vertical-align: top;\n",
       "    }\n",
       "\n",
       "    .dataframe thead th {\n",
       "        text-align: right;\n",
       "    }\n",
       "</style>\n",
       "<table border=\"1\" class=\"dataframe\">\n",
       "  <thead>\n",
       "    <tr style=\"text-align: right;\">\n",
       "      <th></th>\n",
       "      <th>mean</th>\n",
       "      <th>count</th>\n",
       "      <th>Risk</th>\n",
       "      <th>difference</th>\n",
       "    </tr>\n",
       "    <tr>\n",
       "      <th>OnlineBackup</th>\n",
       "      <th></th>\n",
       "      <th></th>\n",
       "      <th></th>\n",
       "      <th></th>\n",
       "    </tr>\n",
       "  </thead>\n",
       "  <tbody>\n",
       "    <tr>\n",
       "      <th>no</th>\n",
       "      <td>0.398693</td>\n",
       "      <td>2448</td>\n",
       "      <td>1.501494</td>\n",
       "      <td>0.133162</td>\n",
       "    </tr>\n",
       "    <tr>\n",
       "      <th>no_internet_service</th>\n",
       "      <td>0.076606</td>\n",
       "      <td>1214</td>\n",
       "      <td>0.288502</td>\n",
       "      <td>-0.188924</td>\n",
       "    </tr>\n",
       "    <tr>\n",
       "      <th>yes</th>\n",
       "      <td>0.216531</td>\n",
       "      <td>1972</td>\n",
       "      <td>0.815467</td>\n",
       "      <td>-0.048999</td>\n",
       "    </tr>\n",
       "  </tbody>\n",
       "</table>\n",
       "</div>"
      ],
      "text/plain": [
       "                         mean  count      Risk  difference\n",
       "OnlineBackup                                              \n",
       "no                   0.398693   2448  1.501494    0.133162\n",
       "no_internet_service  0.076606   1214  0.288502   -0.188924\n",
       "yes                  0.216531   1972  0.815467   -0.048999"
      ]
     },
     "metadata": {},
     "output_type": "display_data"
    },
    {
     "data": {
      "text/html": [
       "<div>\n",
       "<style scoped>\n",
       "    .dataframe tbody tr th:only-of-type {\n",
       "        vertical-align: middle;\n",
       "    }\n",
       "\n",
       "    .dataframe tbody tr th {\n",
       "        vertical-align: top;\n",
       "    }\n",
       "\n",
       "    .dataframe thead th {\n",
       "        text-align: right;\n",
       "    }\n",
       "</style>\n",
       "<table border=\"1\" class=\"dataframe\">\n",
       "  <thead>\n",
       "    <tr style=\"text-align: right;\">\n",
       "      <th></th>\n",
       "      <th>mean</th>\n",
       "      <th>count</th>\n",
       "      <th>Risk</th>\n",
       "      <th>difference</th>\n",
       "    </tr>\n",
       "    <tr>\n",
       "      <th>DeviceProtection</th>\n",
       "      <th></th>\n",
       "      <th></th>\n",
       "      <th></th>\n",
       "      <th></th>\n",
       "    </tr>\n",
       "  </thead>\n",
       "  <tbody>\n",
       "    <tr>\n",
       "      <th>no</th>\n",
       "      <td>0.387706</td>\n",
       "      <td>2489</td>\n",
       "      <td>1.460117</td>\n",
       "      <td>0.122175</td>\n",
       "    </tr>\n",
       "    <tr>\n",
       "      <th>no_internet_service</th>\n",
       "      <td>0.076606</td>\n",
       "      <td>1214</td>\n",
       "      <td>0.288502</td>\n",
       "      <td>-0.188924</td>\n",
       "    </tr>\n",
       "    <tr>\n",
       "      <th>yes</th>\n",
       "      <td>0.226825</td>\n",
       "      <td>1931</td>\n",
       "      <td>0.854234</td>\n",
       "      <td>-0.038705</td>\n",
       "    </tr>\n",
       "  </tbody>\n",
       "</table>\n",
       "</div>"
      ],
      "text/plain": [
       "                         mean  count      Risk  difference\n",
       "DeviceProtection                                          \n",
       "no                   0.387706   2489  1.460117    0.122175\n",
       "no_internet_service  0.076606   1214  0.288502   -0.188924\n",
       "yes                  0.226825   1931  0.854234   -0.038705"
      ]
     },
     "metadata": {},
     "output_type": "display_data"
    },
    {
     "data": {
      "text/html": [
       "<div>\n",
       "<style scoped>\n",
       "    .dataframe tbody tr th:only-of-type {\n",
       "        vertical-align: middle;\n",
       "    }\n",
       "\n",
       "    .dataframe tbody tr th {\n",
       "        vertical-align: top;\n",
       "    }\n",
       "\n",
       "    .dataframe thead th {\n",
       "        text-align: right;\n",
       "    }\n",
       "</style>\n",
       "<table border=\"1\" class=\"dataframe\">\n",
       "  <thead>\n",
       "    <tr style=\"text-align: right;\">\n",
       "      <th></th>\n",
       "      <th>mean</th>\n",
       "      <th>count</th>\n",
       "      <th>Risk</th>\n",
       "      <th>difference</th>\n",
       "    </tr>\n",
       "    <tr>\n",
       "      <th>TechSupport</th>\n",
       "      <th></th>\n",
       "      <th></th>\n",
       "      <th></th>\n",
       "      <th></th>\n",
       "    </tr>\n",
       "  </thead>\n",
       "  <tbody>\n",
       "    <tr>\n",
       "      <th>no</th>\n",
       "      <td>0.413472</td>\n",
       "      <td>2791</td>\n",
       "      <td>1.557153</td>\n",
       "      <td>0.147941</td>\n",
       "    </tr>\n",
       "    <tr>\n",
       "      <th>no_internet_service</th>\n",
       "      <td>0.076606</td>\n",
       "      <td>1214</td>\n",
       "      <td>0.288502</td>\n",
       "      <td>-0.188924</td>\n",
       "    </tr>\n",
       "    <tr>\n",
       "      <th>yes</th>\n",
       "      <td>0.152855</td>\n",
       "      <td>1629</td>\n",
       "      <td>0.575657</td>\n",
       "      <td>-0.112676</td>\n",
       "    </tr>\n",
       "  </tbody>\n",
       "</table>\n",
       "</div>"
      ],
      "text/plain": [
       "                         mean  count      Risk  difference\n",
       "TechSupport                                               \n",
       "no                   0.413472   2791  1.557153    0.147941\n",
       "no_internet_service  0.076606   1214  0.288502   -0.188924\n",
       "yes                  0.152855   1629  0.575657   -0.112676"
      ]
     },
     "metadata": {},
     "output_type": "display_data"
    },
    {
     "data": {
      "text/html": [
       "<div>\n",
       "<style scoped>\n",
       "    .dataframe tbody tr th:only-of-type {\n",
       "        vertical-align: middle;\n",
       "    }\n",
       "\n",
       "    .dataframe tbody tr th {\n",
       "        vertical-align: top;\n",
       "    }\n",
       "\n",
       "    .dataframe thead th {\n",
       "        text-align: right;\n",
       "    }\n",
       "</style>\n",
       "<table border=\"1\" class=\"dataframe\">\n",
       "  <thead>\n",
       "    <tr style=\"text-align: right;\">\n",
       "      <th></th>\n",
       "      <th>mean</th>\n",
       "      <th>count</th>\n",
       "      <th>Risk</th>\n",
       "      <th>difference</th>\n",
       "    </tr>\n",
       "    <tr>\n",
       "      <th>StreamingTV</th>\n",
       "      <th></th>\n",
       "      <th></th>\n",
       "      <th></th>\n",
       "      <th></th>\n",
       "    </tr>\n",
       "  </thead>\n",
       "  <tbody>\n",
       "    <tr>\n",
       "      <th>no</th>\n",
       "      <td>0.335418</td>\n",
       "      <td>2239</td>\n",
       "      <td>1.263197</td>\n",
       "      <td>0.069887</td>\n",
       "    </tr>\n",
       "    <tr>\n",
       "      <th>no_internet_service</th>\n",
       "      <td>0.076606</td>\n",
       "      <td>1214</td>\n",
       "      <td>0.288502</td>\n",
       "      <td>-0.188924</td>\n",
       "    </tr>\n",
       "    <tr>\n",
       "      <th>yes</th>\n",
       "      <td>0.298945</td>\n",
       "      <td>2181</td>\n",
       "      <td>1.125841</td>\n",
       "      <td>0.033415</td>\n",
       "    </tr>\n",
       "  </tbody>\n",
       "</table>\n",
       "</div>"
      ],
      "text/plain": [
       "                         mean  count      Risk  difference\n",
       "StreamingTV                                               \n",
       "no                   0.335418   2239  1.263197    0.069887\n",
       "no_internet_service  0.076606   1214  0.288502   -0.188924\n",
       "yes                  0.298945   2181  1.125841    0.033415"
      ]
     },
     "metadata": {},
     "output_type": "display_data"
    },
    {
     "data": {
      "text/html": [
       "<div>\n",
       "<style scoped>\n",
       "    .dataframe tbody tr th:only-of-type {\n",
       "        vertical-align: middle;\n",
       "    }\n",
       "\n",
       "    .dataframe tbody tr th {\n",
       "        vertical-align: top;\n",
       "    }\n",
       "\n",
       "    .dataframe thead th {\n",
       "        text-align: right;\n",
       "    }\n",
       "</style>\n",
       "<table border=\"1\" class=\"dataframe\">\n",
       "  <thead>\n",
       "    <tr style=\"text-align: right;\">\n",
       "      <th></th>\n",
       "      <th>mean</th>\n",
       "      <th>count</th>\n",
       "      <th>Risk</th>\n",
       "      <th>difference</th>\n",
       "    </tr>\n",
       "    <tr>\n",
       "      <th>StreamingMovies</th>\n",
       "      <th></th>\n",
       "      <th></th>\n",
       "      <th></th>\n",
       "      <th></th>\n",
       "    </tr>\n",
       "  </thead>\n",
       "  <tbody>\n",
       "    <tr>\n",
       "      <th>no</th>\n",
       "      <td>0.333333</td>\n",
       "      <td>2223</td>\n",
       "      <td>1.255348</td>\n",
       "      <td>0.067803</td>\n",
       "    </tr>\n",
       "    <tr>\n",
       "      <th>no_internet_service</th>\n",
       "      <td>0.076606</td>\n",
       "      <td>1214</td>\n",
       "      <td>0.288502</td>\n",
       "      <td>-0.188924</td>\n",
       "    </tr>\n",
       "    <tr>\n",
       "      <th>yes</th>\n",
       "      <td>0.301320</td>\n",
       "      <td>2197</td>\n",
       "      <td>1.134784</td>\n",
       "      <td>0.035789</td>\n",
       "    </tr>\n",
       "  </tbody>\n",
       "</table>\n",
       "</div>"
      ],
      "text/plain": [
       "                         mean  count      Risk  difference\n",
       "StreamingMovies                                           \n",
       "no                   0.333333   2223  1.255348    0.067803\n",
       "no_internet_service  0.076606   1214  0.288502   -0.188924\n",
       "yes                  0.301320   2197  1.134784    0.035789"
      ]
     },
     "metadata": {},
     "output_type": "display_data"
    },
    {
     "data": {
      "text/html": [
       "<div>\n",
       "<style scoped>\n",
       "    .dataframe tbody tr th:only-of-type {\n",
       "        vertical-align: middle;\n",
       "    }\n",
       "\n",
       "    .dataframe tbody tr th {\n",
       "        vertical-align: top;\n",
       "    }\n",
       "\n",
       "    .dataframe thead th {\n",
       "        text-align: right;\n",
       "    }\n",
       "</style>\n",
       "<table border=\"1\" class=\"dataframe\">\n",
       "  <thead>\n",
       "    <tr style=\"text-align: right;\">\n",
       "      <th></th>\n",
       "      <th>mean</th>\n",
       "      <th>count</th>\n",
       "      <th>Risk</th>\n",
       "      <th>difference</th>\n",
       "    </tr>\n",
       "    <tr>\n",
       "      <th>Contract</th>\n",
       "      <th></th>\n",
       "      <th></th>\n",
       "      <th></th>\n",
       "      <th></th>\n",
       "    </tr>\n",
       "  </thead>\n",
       "  <tbody>\n",
       "    <tr>\n",
       "      <th>month-to-month</th>\n",
       "      <td>0.426533</td>\n",
       "      <td>3083</td>\n",
       "      <td>1.606340</td>\n",
       "      <td>0.161002</td>\n",
       "    </tr>\n",
       "    <tr>\n",
       "      <th>one_year</th>\n",
       "      <td>0.117987</td>\n",
       "      <td>1212</td>\n",
       "      <td>0.444343</td>\n",
       "      <td>-0.147544</td>\n",
       "    </tr>\n",
       "    <tr>\n",
       "      <th>two_year</th>\n",
       "      <td>0.028379</td>\n",
       "      <td>1339</td>\n",
       "      <td>0.106878</td>\n",
       "      <td>-0.237151</td>\n",
       "    </tr>\n",
       "  </tbody>\n",
       "</table>\n",
       "</div>"
      ],
      "text/plain": [
       "                    mean  count      Risk  difference\n",
       "Contract                                             \n",
       "month-to-month  0.426533   3083  1.606340    0.161002\n",
       "one_year        0.117987   1212  0.444343   -0.147544\n",
       "two_year        0.028379   1339  0.106878   -0.237151"
      ]
     },
     "metadata": {},
     "output_type": "display_data"
    },
    {
     "data": {
      "text/html": [
       "<div>\n",
       "<style scoped>\n",
       "    .dataframe tbody tr th:only-of-type {\n",
       "        vertical-align: middle;\n",
       "    }\n",
       "\n",
       "    .dataframe tbody tr th {\n",
       "        vertical-align: top;\n",
       "    }\n",
       "\n",
       "    .dataframe thead th {\n",
       "        text-align: right;\n",
       "    }\n",
       "</style>\n",
       "<table border=\"1\" class=\"dataframe\">\n",
       "  <thead>\n",
       "    <tr style=\"text-align: right;\">\n",
       "      <th></th>\n",
       "      <th>mean</th>\n",
       "      <th>count</th>\n",
       "      <th>Risk</th>\n",
       "      <th>difference</th>\n",
       "    </tr>\n",
       "    <tr>\n",
       "      <th>PaperlessBilling</th>\n",
       "      <th></th>\n",
       "      <th></th>\n",
       "      <th></th>\n",
       "      <th></th>\n",
       "    </tr>\n",
       "  </thead>\n",
       "  <tbody>\n",
       "    <tr>\n",
       "      <th>no</th>\n",
       "      <td>0.16414</td>\n",
       "      <td>2309</td>\n",
       "      <td>0.618159</td>\n",
       "      <td>-0.101390</td>\n",
       "    </tr>\n",
       "    <tr>\n",
       "      <th>yes</th>\n",
       "      <td>0.33594</td>\n",
       "      <td>3325</td>\n",
       "      <td>1.265164</td>\n",
       "      <td>0.070409</td>\n",
       "    </tr>\n",
       "  </tbody>\n",
       "</table>\n",
       "</div>"
      ],
      "text/plain": [
       "                     mean  count      Risk  difference\n",
       "PaperlessBilling                                      \n",
       "no                0.16414   2309  0.618159   -0.101390\n",
       "yes               0.33594   3325  1.265164    0.070409"
      ]
     },
     "metadata": {},
     "output_type": "display_data"
    },
    {
     "data": {
      "text/html": [
       "<div>\n",
       "<style scoped>\n",
       "    .dataframe tbody tr th:only-of-type {\n",
       "        vertical-align: middle;\n",
       "    }\n",
       "\n",
       "    .dataframe tbody tr th {\n",
       "        vertical-align: top;\n",
       "    }\n",
       "\n",
       "    .dataframe thead th {\n",
       "        text-align: right;\n",
       "    }\n",
       "</style>\n",
       "<table border=\"1\" class=\"dataframe\">\n",
       "  <thead>\n",
       "    <tr style=\"text-align: right;\">\n",
       "      <th></th>\n",
       "      <th>mean</th>\n",
       "      <th>count</th>\n",
       "      <th>Risk</th>\n",
       "      <th>difference</th>\n",
       "    </tr>\n",
       "    <tr>\n",
       "      <th>PaymentMethod</th>\n",
       "      <th></th>\n",
       "      <th></th>\n",
       "      <th></th>\n",
       "      <th></th>\n",
       "    </tr>\n",
       "  </thead>\n",
       "  <tbody>\n",
       "    <tr>\n",
       "      <th>bank_transfer_(automatic)</th>\n",
       "      <td>0.174475</td>\n",
       "      <td>1238</td>\n",
       "      <td>0.657080</td>\n",
       "      <td>-0.091056</td>\n",
       "    </tr>\n",
       "    <tr>\n",
       "      <th>credit_card_(automatic)</th>\n",
       "      <td>0.152404</td>\n",
       "      <td>1227</td>\n",
       "      <td>0.573961</td>\n",
       "      <td>-0.113126</td>\n",
       "    </tr>\n",
       "    <tr>\n",
       "      <th>electronic_check</th>\n",
       "      <td>0.449921</td>\n",
       "      <td>1887</td>\n",
       "      <td>1.694420</td>\n",
       "      <td>0.184390</td>\n",
       "    </tr>\n",
       "    <tr>\n",
       "      <th>mailed_check</th>\n",
       "      <td>0.190328</td>\n",
       "      <td>1282</td>\n",
       "      <td>0.716782</td>\n",
       "      <td>-0.075203</td>\n",
       "    </tr>\n",
       "  </tbody>\n",
       "</table>\n",
       "</div>"
      ],
      "text/plain": [
       "                               mean  count      Risk  difference\n",
       "PaymentMethod                                                   \n",
       "bank_transfer_(automatic)  0.174475   1238  0.657080   -0.091056\n",
       "credit_card_(automatic)    0.152404   1227  0.573961   -0.113126\n",
       "electronic_check           0.449921   1887  1.694420    0.184390\n",
       "mailed_check               0.190328   1282  0.716782   -0.075203"
      ]
     },
     "metadata": {},
     "output_type": "display_data"
    }
   ],
   "source": [
    "# display mean, count, risk, and difference for every caltegorical column\n",
    "\n",
    "for c in categorical_columns:\n",
    "    df_group=df_full.groupby(c).Churn.agg([\"mean\",\"count\"])\n",
    "    df_group['Risk'] = df_group['mean'] / global_churn_ratio\n",
    "    df_group['difference'] = df_group['mean']-global_churn_ratio\n",
    "    display(df_group)\n",
    "\n"
   ]
  },
  {
   "cell_type": "code",
   "execution_count": null,
   "id": "f6f7cc97",
   "metadata": {},
   "outputs": [],
   "source": []
  },
  {
   "cell_type": "markdown",
   "id": "dabe0225",
   "metadata": {},
   "source": [
    "# Feature Importance : Mutual Information "
   ]
  },
  {
   "cell_type": "markdown",
   "id": "29067394",
   "metadata": {},
   "source": [
    "Mutual information (MI) between two random variables is a non-negative value, which measures the dependency between the variables. It is equal to zero if and only if two random variables are independent, and higher values mean higher dependency. "
   ]
  },
  {
   "cell_type": "code",
   "execution_count": 46,
   "id": "df7c10ca",
   "metadata": {},
   "outputs": [],
   "source": [
    "from sklearn.metrics import mutual_info_score"
   ]
  },
  {
   "cell_type": "code",
   "execution_count": 47,
   "id": "c4584e5f",
   "metadata": {},
   "outputs": [
    {
     "data": {
      "text/plain": [
       "6.877785208564413e-05"
      ]
     },
     "execution_count": 47,
     "metadata": {},
     "output_type": "execute_result"
    }
   ],
   "source": [
    "mutual_info_score(df_full.Churn,df_full.gender)\n"
   ]
  },
  {
   "cell_type": "code",
   "execution_count": 48,
   "id": "fda4b42d",
   "metadata": {},
   "outputs": [],
   "source": [
    "def mutual_info_churn_score(series):\n",
    "    return mutual_info_score(series,df_full.Churn)\n"
   ]
  },
  {
   "cell_type": "code",
   "execution_count": 49,
   "id": "26313c10",
   "metadata": {},
   "outputs": [
    {
     "data": {
      "text/html": [
       "<div>\n",
       "<style scoped>\n",
       "    .dataframe tbody tr th:only-of-type {\n",
       "        vertical-align: middle;\n",
       "    }\n",
       "\n",
       "    .dataframe tbody tr th {\n",
       "        vertical-align: top;\n",
       "    }\n",
       "\n",
       "    .dataframe thead th {\n",
       "        text-align: right;\n",
       "    }\n",
       "</style>\n",
       "<table border=\"1\" class=\"dataframe\">\n",
       "  <thead>\n",
       "    <tr style=\"text-align: right;\">\n",
       "      <th></th>\n",
       "      <th>mutual_information</th>\n",
       "    </tr>\n",
       "  </thead>\n",
       "  <tbody>\n",
       "    <tr>\n",
       "      <th>Contract</th>\n",
       "      <td>0.096652</td>\n",
       "    </tr>\n",
       "    <tr>\n",
       "      <th>OnlineSecurity</th>\n",
       "      <td>0.063393</td>\n",
       "    </tr>\n",
       "    <tr>\n",
       "      <th>TechSupport</th>\n",
       "      <td>0.060935</td>\n",
       "    </tr>\n",
       "    <tr>\n",
       "      <th>InternetService</th>\n",
       "      <td>0.053313</td>\n",
       "    </tr>\n",
       "    <tr>\n",
       "      <th>OnlineBackup</th>\n",
       "      <td>0.045424</td>\n",
       "    </tr>\n",
       "    <tr>\n",
       "      <th>PaymentMethod</th>\n",
       "      <td>0.042861</td>\n",
       "    </tr>\n",
       "    <tr>\n",
       "      <th>DeviceProtection</th>\n",
       "      <td>0.042007</td>\n",
       "    </tr>\n",
       "    <tr>\n",
       "      <th>StreamingTV</th>\n",
       "      <td>0.030844</td>\n",
       "    </tr>\n",
       "    <tr>\n",
       "      <th>StreamingMovies</th>\n",
       "      <td>0.030705</td>\n",
       "    </tr>\n",
       "    <tr>\n",
       "      <th>PaperlessBilling</th>\n",
       "      <td>0.019077</td>\n",
       "    </tr>\n",
       "    <tr>\n",
       "      <th>Dependents</th>\n",
       "      <td>0.014129</td>\n",
       "    </tr>\n",
       "    <tr>\n",
       "      <th>Partner</th>\n",
       "      <td>0.010227</td>\n",
       "    </tr>\n",
       "    <tr>\n",
       "      <th>SeniorCitizen</th>\n",
       "      <td>0.010059</td>\n",
       "    </tr>\n",
       "    <tr>\n",
       "      <th>MultipleLines</th>\n",
       "      <td>0.000654</td>\n",
       "    </tr>\n",
       "    <tr>\n",
       "      <th>gender</th>\n",
       "      <td>0.000069</td>\n",
       "    </tr>\n",
       "    <tr>\n",
       "      <th>PhoneService</th>\n",
       "      <td>0.000040</td>\n",
       "    </tr>\n",
       "  </tbody>\n",
       "</table>\n",
       "</div>"
      ],
      "text/plain": [
       "                  mutual_information\n",
       "Contract                    0.096652\n",
       "OnlineSecurity              0.063393\n",
       "TechSupport                 0.060935\n",
       "InternetService             0.053313\n",
       "OnlineBackup                0.045424\n",
       "PaymentMethod               0.042861\n",
       "DeviceProtection            0.042007\n",
       "StreamingTV                 0.030844\n",
       "StreamingMovies             0.030705\n",
       "PaperlessBilling            0.019077\n",
       "Dependents                  0.014129\n",
       "Partner                     0.010227\n",
       "SeniorCitizen               0.010059\n",
       "MultipleLines               0.000654\n",
       "gender                      0.000069\n",
       "PhoneService                0.000040"
      ]
     },
     "execution_count": 49,
     "metadata": {},
     "output_type": "execute_result"
    }
   ],
   "source": [
    "#apply a y function to the series of the df dataframe\n",
    "mutual_information = df_full[categorical_columns].apply(mutual_info_churn_score)\n",
    "mutual_information.sort_values(ascending=False).to_frame(name='mutual_information')"
   ]
  },
  {
   "cell_type": "code",
   "execution_count": 50,
   "id": "c7e36ef1",
   "metadata": {},
   "outputs": [
    {
     "data": {
      "image/png": "[encoded data removed]",
      "text/plain": [
       "<Figure size 640x480 with 1 Axes>"
      ]
     },
     "metadata": {},
     "output_type": "display_data"
    }
   ],
   "source": [
    "mutual_information.plot(kind='bar')\n",
    "plt.rcParams[\"figure.figsize\"] = (16, 5)\n",
    "plt.xticks(rotation=45, ha=\"right\")  # Rotate the x-axis labels to avoid overlap\n",
    "plt.tight_layout()  # Adjust the layout to ensure everything fits\n",
    "plt.show()\n"
   ]
  },
  {
   "cell_type": "code",
   "execution_count": null,
   "id": "17b6db9a",
   "metadata": {},
   "outputs": [],
   "source": []
  },
  {
   "cell_type": "markdown",
   "id": "5249977a",
   "metadata": {},
   "source": [
    "# Features Importants : Correlation"
   ]
  },
  {
   "cell_type": "markdown",
   "id": "8953f292",
   "metadata": {},
   "source": [
    "Correlation coefficient measures the degree of dependency between two variables. This value is negative if one variable grows while the other decreases, and it is positive if both variables increase. Depending on its size, the dependency between both variables could be low, moderate, or strong. It allows measuring the importance of numerical variables.\n",
    "\n",
    "If r is correlation coefficient, then the correlation between two variables is:\n",
    "\n",
    "LOW when r is between [0, -0.2) or [0, 0.2)\n",
    "\n",
    "MEDIUM when r is between [-0.2, -0.5) or [2, 0.5)\n",
    "\n",
    "STRONG when r is between [-0.5, -1.0] or [0.5, 1.0]\n",
    "\n",
    "Positive Correlation vs. Negative Correlation \n",
    "\n",
    "When r is positive, an increase in x will increase y.\n",
    "When r is negative, an increase in x will decrease y.\n",
    "When r is 0, a change in x does not affect y.\n",
    "Functions and methods:\n",
    "\n",
    "df[x].corrwith(y) - returns the correlation between x and y series. This is a function from pandas.\n",
    "Or you can use it column by column by df[c1].corr(df[c2])"
   ]
  },
  {
   "cell_type": "code",
   "execution_count": 51,
   "id": "e0f190cc",
   "metadata": {},
   "outputs": [
    {
     "data": {
      "text/plain": [
       "0"
      ]
     },
     "execution_count": 51,
     "metadata": {},
     "output_type": "execute_result"
    }
   ],
   "source": [
    "df_full.tenure.min()"
   ]
  },
  {
   "cell_type": "code",
   "execution_count": 52,
   "id": "2cdd9556",
   "metadata": {},
   "outputs": [
    {
     "data": {
      "text/plain": [
       "72"
      ]
     },
     "execution_count": 52,
     "metadata": {},
     "output_type": "execute_result"
    }
   ],
   "source": [
    "df_full.tenure.max()"
   ]
  },
  {
   "cell_type": "markdown",
   "id": "7e9f56b7",
   "metadata": {},
   "source": [
    "the following for show the relation between two columns up or down or stable with increasement one of them "
   ]
  },
  {
   "cell_type": "code",
   "execution_count": 53,
   "id": "2d54785a",
   "metadata": {},
   "outputs": [
    {
     "data": {
      "text/plain": [
       "0.2655307064252751"
      ]
     },
     "execution_count": 53,
     "metadata": {},
     "output_type": "execute_result"
    }
   ],
   "source": [
    "df_full[df_full['tenure']>-1].Churn.mean()"
   ]
  },
  {
   "cell_type": "code",
   "execution_count": 54,
   "id": "f6c321c1",
   "metadata": {},
   "outputs": [
    {
     "data": {
      "text/plain": [
       "0.5495867768595041"
      ]
     },
     "execution_count": 54,
     "metadata": {},
     "output_type": "execute_result"
    }
   ],
   "source": [
    "df_full[df_full['tenure']<5].Churn.mean()"
   ]
  },
  {
   "cell_type": "code",
   "execution_count": 55,
   "id": "2df4d12f",
   "metadata": {},
   "outputs": [
    {
     "data": {
      "text/plain": [
       "0.20660094299185597"
      ]
     },
     "execution_count": 55,
     "metadata": {},
     "output_type": "execute_result"
    }
   ],
   "source": [
    "df_full[df_full['tenure']>=5].Churn.mean()"
   ]
  },
  {
   "cell_type": "code",
   "execution_count": 56,
   "id": "d4c91a12",
   "metadata": {},
   "outputs": [
    {
     "data": {
      "text/plain": [
       "0.6090534979423868"
      ]
     },
     "execution_count": 56,
     "metadata": {},
     "output_type": "execute_result"
    }
   ],
   "source": [
    "df_full[df_full['tenure']<2].Churn.mean()"
   ]
  },
  {
   "cell_type": "code",
   "execution_count": 57,
   "id": "cb60972e",
   "metadata": {},
   "outputs": [
    {
     "data": {
      "text/plain": [
       "0.1353135313531353"
      ]
     },
     "execution_count": 57,
     "metadata": {},
     "output_type": "execute_result"
    }
   ],
   "source": [
    "df_full[df_full['tenure']>30].Churn.mean()"
   ]
  },
  {
   "cell_type": "markdown",
   "id": "1e680f18",
   "metadata": {},
   "source": [
    "With more Tenure the risk of Churn decrease "
   ]
  },
  {
   "cell_type": "code",
   "execution_count": 58,
   "id": "c58e4b08",
   "metadata": {},
   "outputs": [
    {
     "data": {
      "text/plain": [
       "0.2655307064252751"
      ]
     },
     "execution_count": 58,
     "metadata": {},
     "output_type": "execute_result"
    }
   ],
   "source": [
    "df_full[df_full['MonthlyCharges']>18].Churn.mean()"
   ]
  },
  {
   "cell_type": "code",
   "execution_count": 59,
   "id": "eb605ba7",
   "metadata": {},
   "outputs": [
    {
     "data": {
      "text/plain": [
       "0.33252574197456086"
      ]
     },
     "execution_count": 59,
     "metadata": {},
     "output_type": "execute_result"
    }
   ],
   "source": [
    "df_full[df_full['MonthlyCharges']>60].Churn.mean()"
   ]
  },
  {
   "cell_type": "code",
   "execution_count": 60,
   "id": "e033c583",
   "metadata": {},
   "outputs": [
    {
     "data": {
      "text/plain": [
       "0.29362880886426596"
      ]
     },
     "execution_count": 60,
     "metadata": {},
     "output_type": "execute_result"
    }
   ],
   "source": [
    "df_full[df_full['MonthlyCharges']>100].Churn.mean()"
   ]
  },
  {
   "cell_type": "code",
   "execution_count": 61,
   "id": "272da0ce",
   "metadata": {},
   "outputs": [
    {
     "data": {
      "text/plain": [
       "0.2838983050847458"
      ]
     },
     "execution_count": 61,
     "metadata": {},
     "output_type": "execute_result"
    }
   ],
   "source": [
    "df_full[ (df_full['tenure']>=5) & (df_full['MonthlyCharges']>100)].Churn.mean()"
   ]
  },
  {
   "cell_type": "code",
   "execution_count": 62,
   "id": "5367a3e4",
   "metadata": {},
   "outputs": [
    {
     "data": {
      "text/plain": [
       "-0.34492502696211386"
      ]
     },
     "execution_count": 62,
     "metadata": {},
     "output_type": "execute_result"
    }
   ],
   "source": [
    "df_full['tenure'].corr(df_full.Churn)"
   ]
  },
  {
   "cell_type": "code",
   "execution_count": 63,
   "id": "cda9cf9a",
   "metadata": {},
   "outputs": [],
   "source": [
    "numerical_columns=['MonthlyCharges','TotalCharges','tenure']"
   ]
  },
  {
   "cell_type": "code",
   "execution_count": 64,
   "id": "f3dae8dc",
   "metadata": {},
   "outputs": [
    {
     "data": {
      "text/plain": [
       "MonthlyCharges    0.188574\n",
       "TotalCharges     -0.193370\n",
       "tenure           -0.344925\n",
       "dtype: float64"
      ]
     },
     "execution_count": 64,
     "metadata": {},
     "output_type": "execute_result"
    }
   ],
   "source": [
    "df_full[numerical_columns].corrwith(df_full.Churn)"
   ]
  },
  {
   "cell_type": "code",
   "execution_count": 65,
   "id": "f20c5982",
   "metadata": {},
   "outputs": [
    {
     "data": {
      "text/plain": [
       "MonthlyCharges    0.188574\n",
       "TotalCharges      0.193370\n",
       "tenure            0.344925\n",
       "dtype: float64"
      ]
     },
     "execution_count": 65,
     "metadata": {},
     "output_type": "execute_result"
    }
   ],
   "source": [
    "#the abs for the correlation value without the direction \n",
    "df_full[numerical_columns].corrwith(df_full.Churn).abs()"
   ]
  },
  {
   "cell_type": "markdown",
   "id": "67150679",
   "metadata": {},
   "source": [
    "Tenure have most correlation with Churn but in Inverse relationship "
   ]
  },
  {
   "cell_type": "markdown",
   "id": "4e9bd96d",
   "metadata": {},
   "source": [
    "# Mutual Information vs. Correlation"
   ]
  },
  {
   "cell_type": "markdown",
   "id": "4707cd39",
   "metadata": {},
   "source": [
    "\n",
    "Both mutual information and correlation are used to measure the relationship between two variables, but they differ in their underlying principles and scope.   \n",
    "\n",
    "Correlation\n",
    "Measures Linear Relationships: Correlation primarily focuses on linear relationships between variables. It calculates a coefficient that ranges from -1 to 1, where -1 indicates a perfect negative correlation, 1 indicates a perfect positive correlation, and 0 indicates no correlation.   \n",
    "Sensitive to Outliers: Correlation can be sensitive to outliers, as they can significantly influence the calculated coefficient.   \n",
    "Limited to Numeric Data: Correlation is typically used for numeric data.\n",
    "Mutual Information\n",
    "Measures Any Type of Relationship: Mutual information measures the dependence between two random variables, regardless of whether the relationship is linear or nonlinear. It quantifies the amount of information that knowing one variable provides about the other.   \n",
    "Robust to Outliers: Mutual information is generally less sensitive to outliers than correlation.\n",
    "Can Handle Categorical and Numeric Data: It can be used for both categorical and numeric data.\n"
   ]
  },
  {
   "cell_type": "code",
   "execution_count": null,
   "id": "d8f45a0c",
   "metadata": {},
   "outputs": [],
   "source": []
  },
  {
   "cell_type": "markdown",
   "id": "ddd91aec",
   "metadata": {},
   "source": [
    "# One-Hot Encoding "
   ]
  },
  {
   "cell_type": "code",
   "execution_count": 66,
   "id": "1a93a6f4",
   "metadata": {},
   "outputs": [],
   "source": [
    "from sklearn.feature_extraction import DictVectorizer"
   ]
  },
  {
   "cell_type": "markdown",
   "id": "0814e45b",
   "metadata": {},
   "source": [
    "Explain How DictVectorizer work \n",
    "\n",
    "from Dictionery to verctor "
   ]
  },
  {
   "cell_type": "markdown",
   "id": "9bf9e595",
   "metadata": {},
   "source": [
    "#  fit:\n",
    "\n",
    "Purpose: Learns the vocabulary (unique terms) present in the input data.\n",
    "Input: A list or array of dictionaries.\n",
    "Output: A DictVectorizer object that stores the learned vocabulary.\n",
    "Functionality: Creates a mapping between the unique terms and their corresponding feature indices.\n",
    "\n",
    "\n",
    "# transform:\n",
    "\n",
    "Purpose: Transforms new input data using the vocabulary learned from a previously fitted DictVectorizer.\n",
    "Input: A list or array of dictionaries.\n",
    "Output: A sparse matrix representation of the input data, using the same feature indices as the original training data.\n",
    "Functionality: Converts the new input data into the sparse matrix format using the existing vocabulary mapping.\n",
    "\n",
    "\n",
    "# fit_transform:\n",
    "\n",
    "Purpose: Combines the fit and transform steps into a single operation.\n",
    "Input: A list or array of dictionaries.\n",
    "Output: A sparse matrix representation of the input data, where each row corresponds to a document and each column represents a feature (term).\n",
    "Functionality: First, learns the vocabulary using fit. Then, transforms the input data into the sparse matrix format using the learned vocabulary.\n",
    "\n",
    "\n",
    "\n",
    "# Why use transform on the validation dataset:\n",
    "\n",
    "Consistency: The validation dataset should be processed using the same vocabulary and feature indices as the training dataset to ensure fair comparison and evaluation.\n",
    "Avoid Data Leakage: Using fit_transform on the validation dataset would introduce information from the validation data into the model training process, leading to data leakage and overfitting.\n",
    "Correct Feature Representation: transform guarantees that the features extracted from the validation data are aligned with the features learned from the training data, preventing inconsistencies in the evaluation process.\n",
    "\n",
    "\n",
    " In summary:\n",
    "\n",
    "fit is used to learn the vocabulary from the training data.\n",
    "fit_transform is used to learn the vocabulary and transform the training data in one step.\n",
    "transform is used to transform new data (like the validation dataset) using the previously learned vocabulary.\n",
    "By using transform on the validation dataset, you ensure that the model is evaluated on data that is processed consistently with the training data, preventing data leakage and improving the reliability of the evaluation results."
   ]
  },
  {
   "cell_type": "code",
   "execution_count": 67,
   "id": "a3f6ef8e",
   "metadata": {},
   "outputs": [
    {
     "data": {
      "text/html": [
       "<div>\n",
       "<style scoped>\n",
       "    .dataframe tbody tr th:only-of-type {\n",
       "        vertical-align: middle;\n",
       "    }\n",
       "\n",
       "    .dataframe tbody tr th {\n",
       "        vertical-align: top;\n",
       "    }\n",
       "\n",
       "    .dataframe thead th {\n",
       "        text-align: right;\n",
       "    }\n",
       "</style>\n",
       "<table border=\"1\" class=\"dataframe\">\n",
       "  <thead>\n",
       "    <tr style=\"text-align: right;\">\n",
       "      <th></th>\n",
       "      <th>gender</th>\n",
       "      <th>PhoneService</th>\n",
       "      <th>tenure</th>\n",
       "    </tr>\n",
       "  </thead>\n",
       "  <tbody>\n",
       "    <tr>\n",
       "      <th>2142</th>\n",
       "      <td>female</td>\n",
       "      <td>yes</td>\n",
       "      <td>21</td>\n",
       "    </tr>\n",
       "    <tr>\n",
       "      <th>1623</th>\n",
       "      <td>female</td>\n",
       "      <td>yes</td>\n",
       "      <td>54</td>\n",
       "    </tr>\n",
       "    <tr>\n",
       "      <th>6074</th>\n",
       "      <td>male</td>\n",
       "      <td>no</td>\n",
       "      <td>1</td>\n",
       "    </tr>\n",
       "    <tr>\n",
       "      <th>1362</th>\n",
       "      <td>male</td>\n",
       "      <td>yes</td>\n",
       "      <td>4</td>\n",
       "    </tr>\n",
       "    <tr>\n",
       "      <th>6754</th>\n",
       "      <td>male</td>\n",
       "      <td>yes</td>\n",
       "      <td>0</td>\n",
       "    </tr>\n",
       "  </tbody>\n",
       "</table>\n",
       "</div>"
      ],
      "text/plain": [
       "      gender PhoneService  tenure\n",
       "2142  female          yes      21\n",
       "1623  female          yes      54\n",
       "6074    male           no       1\n",
       "1362    male          yes       4\n",
       "6754    male          yes       0"
      ]
     },
     "execution_count": 67,
     "metadata": {},
     "output_type": "execute_result"
    }
   ],
   "source": [
    "df_full[['gender','PhoneService','tenure']].head()"
   ]
  },
  {
   "cell_type": "code",
   "execution_count": 68,
   "id": "54a7a092",
   "metadata": {},
   "outputs": [],
   "source": [
    "gp=df_full[['gender','PhoneService','tenure']].head().to_dict(orient='records')\n"
   ]
  },
  {
   "cell_type": "code",
   "execution_count": 69,
   "id": "9135fa01",
   "metadata": {},
   "outputs": [],
   "source": [
    "dv=DictVectorizer(sparse=False)"
   ]
  },
  {
   "cell_type": "code",
   "execution_count": 70,
   "id": "5b3b3dd4",
   "metadata": {},
   "outputs": [
    {
     "data": {
      "text/plain": [
       "DictVectorizer(sparse=False)"
      ]
     },
     "execution_count": 70,
     "metadata": {},
     "output_type": "execute_result"
    }
   ],
   "source": [
    "dv.fit(gp)\n"
   ]
  },
  {
   "cell_type": "code",
   "execution_count": 71,
   "id": "dd5f599e",
   "metadata": {},
   "outputs": [
    {
     "data": {
      "text/plain": [
       "['PhoneService=no',\n",
       " 'PhoneService=yes',\n",
       " 'gender=female',\n",
       " 'gender=male',\n",
       " 'tenure']"
      ]
     },
     "execution_count": 71,
     "metadata": {},
     "output_type": "execute_result"
    }
   ],
   "source": [
    "dv.feature_names_"
   ]
  },
  {
   "cell_type": "code",
   "execution_count": 72,
   "id": "c3b68ace",
   "metadata": {},
   "outputs": [
    {
     "data": {
      "text/plain": [
       "array([[ 0.,  1.,  1.,  0., 21.],\n",
       "       [ 0.,  1.,  1.,  0., 54.],\n",
       "       [ 1.,  0.,  0.,  1.,  1.],\n",
       "       [ 0.,  1.,  0.,  1.,  4.],\n",
       "       [ 0.,  1.,  0.,  1.,  0.]])"
      ]
     },
     "execution_count": 72,
     "metadata": {},
     "output_type": "execute_result"
    }
   ],
   "source": [
    "dv.transform(gp)"
   ]
  },
  {
   "cell_type": "markdown",
   "id": "ea0777db",
   "metadata": {},
   "source": [
    "DictVectorizer for train & val dataset"
   ]
  },
  {
   "cell_type": "code",
   "execution_count": 73,
   "id": "819ccf0f",
   "metadata": {},
   "outputs": [
    {
     "data": {
      "text/html": [
       "<div>\n",
       "<style scoped>\n",
       "    .dataframe tbody tr th:only-of-type {\n",
       "        vertical-align: middle;\n",
       "    }\n",
       "\n",
       "    .dataframe tbody tr th {\n",
       "        vertical-align: top;\n",
       "    }\n",
       "\n",
       "    .dataframe thead th {\n",
       "        text-align: right;\n",
       "    }\n",
       "</style>\n",
       "<table border=\"1\" class=\"dataframe\">\n",
       "  <thead>\n",
       "    <tr style=\"text-align: right;\">\n",
       "      <th></th>\n",
       "      <th>gender</th>\n",
       "      <th>SeniorCitizen</th>\n",
       "      <th>Partner</th>\n",
       "      <th>Dependents</th>\n",
       "      <th>PhoneService</th>\n",
       "      <th>MultipleLines</th>\n",
       "      <th>InternetService</th>\n",
       "      <th>OnlineSecurity</th>\n",
       "      <th>OnlineBackup</th>\n",
       "      <th>DeviceProtection</th>\n",
       "      <th>TechSupport</th>\n",
       "      <th>StreamingTV</th>\n",
       "      <th>StreamingMovies</th>\n",
       "      <th>Contract</th>\n",
       "      <th>PaperlessBilling</th>\n",
       "      <th>PaymentMethod</th>\n",
       "      <th>MonthlyCharges</th>\n",
       "      <th>TotalCharges</th>\n",
       "      <th>tenure</th>\n",
       "    </tr>\n",
       "  </thead>\n",
       "  <tbody>\n",
       "    <tr>\n",
       "      <th>0</th>\n",
       "      <td>male</td>\n",
       "      <td>0</td>\n",
       "      <td>no</td>\n",
       "      <td>no</td>\n",
       "      <td>yes</td>\n",
       "      <td>no</td>\n",
       "      <td>no</td>\n",
       "      <td>no_internet_service</td>\n",
       "      <td>no_internet_service</td>\n",
       "      <td>no_internet_service</td>\n",
       "      <td>no_internet_service</td>\n",
       "      <td>no_internet_service</td>\n",
       "      <td>no_internet_service</td>\n",
       "      <td>month-to-month</td>\n",
       "      <td>no</td>\n",
       "      <td>mailed_check</td>\n",
       "      <td>19.85</td>\n",
       "      <td>64.55</td>\n",
       "      <td>3</td>\n",
       "    </tr>\n",
       "    <tr>\n",
       "      <th>1</th>\n",
       "      <td>female</td>\n",
       "      <td>0</td>\n",
       "      <td>yes</td>\n",
       "      <td>yes</td>\n",
       "      <td>yes</td>\n",
       "      <td>no</td>\n",
       "      <td>fiber_optic</td>\n",
       "      <td>no</td>\n",
       "      <td>yes</td>\n",
       "      <td>yes</td>\n",
       "      <td>yes</td>\n",
       "      <td>yes</td>\n",
       "      <td>yes</td>\n",
       "      <td>one_year</td>\n",
       "      <td>yes</td>\n",
       "      <td>bank_transfer_(automatic)</td>\n",
       "      <td>103.70</td>\n",
       "      <td>5656.75</td>\n",
       "      <td>55</td>\n",
       "    </tr>\n",
       "    <tr>\n",
       "      <th>2</th>\n",
       "      <td>male</td>\n",
       "      <td>0</td>\n",
       "      <td>no</td>\n",
       "      <td>no</td>\n",
       "      <td>yes</td>\n",
       "      <td>no</td>\n",
       "      <td>dsl</td>\n",
       "      <td>no</td>\n",
       "      <td>yes</td>\n",
       "      <td>no</td>\n",
       "      <td>no</td>\n",
       "      <td>no</td>\n",
       "      <td>no</td>\n",
       "      <td>month-to-month</td>\n",
       "      <td>yes</td>\n",
       "      <td>mailed_check</td>\n",
       "      <td>49.70</td>\n",
       "      <td>1218.25</td>\n",
       "      <td>24</td>\n",
       "    </tr>\n",
       "    <tr>\n",
       "      <th>3</th>\n",
       "      <td>male</td>\n",
       "      <td>0</td>\n",
       "      <td>no</td>\n",
       "      <td>no</td>\n",
       "      <td>yes</td>\n",
       "      <td>no</td>\n",
       "      <td>no</td>\n",
       "      <td>no_internet_service</td>\n",
       "      <td>no_internet_service</td>\n",
       "      <td>no_internet_service</td>\n",
       "      <td>no_internet_service</td>\n",
       "      <td>no_internet_service</td>\n",
       "      <td>no_internet_service</td>\n",
       "      <td>month-to-month</td>\n",
       "      <td>no</td>\n",
       "      <td>mailed_check</td>\n",
       "      <td>20.20</td>\n",
       "      <td>20.20</td>\n",
       "      <td>1</td>\n",
       "    </tr>\n",
       "    <tr>\n",
       "      <th>4</th>\n",
       "      <td>male</td>\n",
       "      <td>0</td>\n",
       "      <td>yes</td>\n",
       "      <td>no</td>\n",
       "      <td>no</td>\n",
       "      <td>no_phone_service</td>\n",
       "      <td>dsl</td>\n",
       "      <td>yes</td>\n",
       "      <td>no</td>\n",
       "      <td>yes</td>\n",
       "      <td>yes</td>\n",
       "      <td>yes</td>\n",
       "      <td>yes</td>\n",
       "      <td>two_year</td>\n",
       "      <td>yes</td>\n",
       "      <td>mailed_check</td>\n",
       "      <td>62.15</td>\n",
       "      <td>3778.85</td>\n",
       "      <td>61</td>\n",
       "    </tr>\n",
       "  </tbody>\n",
       "</table>\n",
       "</div>"
      ],
      "text/plain": [
       "   gender  SeniorCitizen Partner Dependents PhoneService     MultipleLines  \\\n",
       "0    male              0      no         no          yes                no   \n",
       "1  female              0     yes        yes          yes                no   \n",
       "2    male              0      no         no          yes                no   \n",
       "3    male              0      no         no          yes                no   \n",
       "4    male              0     yes         no           no  no_phone_service   \n",
       "\n",
       "  InternetService       OnlineSecurity         OnlineBackup  \\\n",
       "0              no  no_internet_service  no_internet_service   \n",
       "1     fiber_optic                   no                  yes   \n",
       "2             dsl                   no                  yes   \n",
       "3              no  no_internet_service  no_internet_service   \n",
       "4             dsl                  yes                   no   \n",
       "\n",
       "      DeviceProtection          TechSupport          StreamingTV  \\\n",
       "0  no_internet_service  no_internet_service  no_internet_service   \n",
       "1                  yes                  yes                  yes   \n",
       "2                   no                   no                   no   \n",
       "3  no_internet_service  no_internet_service  no_internet_service   \n",
       "4                  yes                  yes                  yes   \n",
       "\n",
       "       StreamingMovies        Contract PaperlessBilling  \\\n",
       "0  no_internet_service  month-to-month               no   \n",
       "1                  yes        one_year              yes   \n",
       "2                   no  month-to-month              yes   \n",
       "3  no_internet_service  month-to-month               no   \n",
       "4                  yes        two_year              yes   \n",
       "\n",
       "               PaymentMethod  MonthlyCharges  TotalCharges  tenure  \n",
       "0               mailed_check           19.85         64.55       3  \n",
       "1  bank_transfer_(automatic)          103.70       5656.75      55  \n",
       "2               mailed_check           49.70       1218.25      24  \n",
       "3               mailed_check           20.20         20.20       1  \n",
       "4               mailed_check           62.15       3778.85      61  "
      ]
     },
     "execution_count": 73,
     "metadata": {},
     "output_type": "execute_result"
    }
   ],
   "source": [
    "df_train[categorical_columns + numerical_columns].head()"
   ]
  },
  {
   "cell_type": "code",
   "execution_count": 74,
   "id": "50f35a99",
   "metadata": {},
   "outputs": [
    {
     "data": {
      "text/plain": [
       "{'gender': 'male',\n",
       " 'SeniorCitizen': 0,\n",
       " 'Partner': 'no',\n",
       " 'Dependents': 'no',\n",
       " 'PhoneService': 'yes',\n",
       " 'MultipleLines': 'no',\n",
       " 'InternetService': 'no',\n",
       " 'OnlineSecurity': 'no_internet_service',\n",
       " 'OnlineBackup': 'no_internet_service',\n",
       " 'DeviceProtection': 'no_internet_service',\n",
       " 'TechSupport': 'no_internet_service',\n",
       " 'StreamingTV': 'no_internet_service',\n",
       " 'StreamingMovies': 'no_internet_service',\n",
       " 'Contract': 'month-to-month',\n",
       " 'PaperlessBilling': 'no',\n",
       " 'PaymentMethod': 'mailed_check',\n",
       " 'MonthlyCharges': 19.85,\n",
       " 'TotalCharges': 64.55,\n",
       " 'tenure': 3}"
      ]
     },
     "execution_count": 74,
     "metadata": {},
     "output_type": "execute_result"
    }
   ],
   "source": [
    "dict_train_df=df_train[categorical_columns + numerical_columns].to_dict(orient='records')\n",
    "dict_train_df[0]"
   ]
  },
  {
   "cell_type": "code",
   "execution_count": 75,
   "id": "699fc255",
   "metadata": {},
   "outputs": [
    {
     "data": {
      "text/plain": [
       "array([ 1.  ,  0.  ,  0.  ,  1.  ,  0.  ,  0.  ,  1.  ,  0.  ,  0.  ,\n",
       "        0.  ,  1.  , 19.85,  1.  ,  0.  ,  0.  ,  0.  ,  1.  ,  0.  ,\n",
       "        0.  ,  1.  ,  0.  ,  1.  ,  0.  ,  1.  ,  0.  ,  0.  ,  0.  ,\n",
       "        0.  ,  1.  ,  0.  ,  1.  ,  0.  ,  0.  ,  1.  ,  0.  ,  0.  ,\n",
       "        1.  ,  0.  ,  0.  ,  1.  ,  0.  , 64.55,  0.  ,  1.  ,  3.  ])"
      ]
     },
     "execution_count": 75,
     "metadata": {},
     "output_type": "execute_result"
    }
   ],
   "source": [
    "X_train = dv.fit_transform(dict_train_df)\n",
    "X_train[0]"
   ]
  },
  {
   "cell_type": "code",
   "execution_count": 76,
   "id": "e8935073",
   "metadata": {},
   "outputs": [
    {
     "data": {
      "text/plain": [
       "{'gender': 'male',\n",
       " 'SeniorCitizen': 0,\n",
       " 'Partner': 'no',\n",
       " 'Dependents': 'no',\n",
       " 'PhoneService': 'no',\n",
       " 'MultipleLines': 'no_phone_service',\n",
       " 'InternetService': 'dsl',\n",
       " 'OnlineSecurity': 'no',\n",
       " 'OnlineBackup': 'no',\n",
       " 'DeviceProtection': 'no',\n",
       " 'TechSupport': 'yes',\n",
       " 'StreamingTV': 'yes',\n",
       " 'StreamingMovies': 'yes',\n",
       " 'Contract': 'month-to-month',\n",
       " 'PaperlessBilling': 'yes',\n",
       " 'PaymentMethod': 'electronic_check',\n",
       " 'MonthlyCharges': 51.7,\n",
       " 'TotalCharges': 3005.8,\n",
       " 'tenure': 59}"
      ]
     },
     "execution_count": 76,
     "metadata": {},
     "output_type": "execute_result"
    }
   ],
   "source": [
    "#fit OHE for val dataset\n",
    "dict_val_df=df_val[categorical_columns + numerical_columns].to_dict(orient='records')\n",
    "dict_val_df[0]"
   ]
  },
  {
   "cell_type": "code",
   "execution_count": 77,
   "id": "2849f8dd",
   "metadata": {},
   "outputs": [
    {
     "data": {
      "text/plain": [
       "array([1.0000e+00, 0.0000e+00, 0.0000e+00, 1.0000e+00, 0.0000e+00,\n",
       "       1.0000e+00, 0.0000e+00, 0.0000e+00, 1.0000e+00, 0.0000e+00,\n",
       "       0.0000e+00, 5.1700e+01, 0.0000e+00, 1.0000e+00, 0.0000e+00,\n",
       "       1.0000e+00, 0.0000e+00, 0.0000e+00, 1.0000e+00, 0.0000e+00,\n",
       "       0.0000e+00, 0.0000e+00, 1.0000e+00, 1.0000e+00, 0.0000e+00,\n",
       "       0.0000e+00, 0.0000e+00, 1.0000e+00, 0.0000e+00, 1.0000e+00,\n",
       "       0.0000e+00, 0.0000e+00, 0.0000e+00, 0.0000e+00, 1.0000e+00,\n",
       "       0.0000e+00, 0.0000e+00, 1.0000e+00, 0.0000e+00, 0.0000e+00,\n",
       "       1.0000e+00, 3.0058e+03, 0.0000e+00, 1.0000e+00, 5.9000e+01])"
      ]
     },
     "execution_count": 77,
     "metadata": {},
     "output_type": "execute_result"
    }
   ],
   "source": [
    "X_val = dv.transform(dict_val_df)\n",
    "X_val[0]"
   ]
  },
  {
   "cell_type": "code",
   "execution_count": null,
   "id": "d3b36f33",
   "metadata": {},
   "outputs": [],
   "source": []
  },
  {
   "cell_type": "markdown",
   "id": "621d2253",
   "metadata": {},
   "source": [
    "# Training Logistic Regression with  Scikit-Learn"
   ]
  },
  {
   "cell_type": "code",
   "execution_count": 78,
   "id": "be002cee",
   "metadata": {},
   "outputs": [],
   "source": [
    "from sklearn.linear_model import LogisticRegression"
   ]
  },
  {
   "cell_type": "code",
   "execution_count": 79,
   "id": "b9c60e3c",
   "metadata": {},
   "outputs": [],
   "source": [
    "model = LogisticRegression(solver='liblinear', random_state=random_state)\n"
   ]
  },
  {
   "cell_type": "code",
   "execution_count": 80,
   "id": "1db2e47f",
   "metadata": {},
   "outputs": [
    {
     "data": {
      "text/plain": [
       "LogisticRegression(random_state=42, solver='liblinear')"
      ]
     },
     "execution_count": 80,
     "metadata": {},
     "output_type": "execute_result"
    }
   ],
   "source": [
    "model.fit(X_train, y_train)"
   ]
  },
  {
   "cell_type": "code",
   "execution_count": 81,
   "id": "d1d51805",
   "metadata": {},
   "outputs": [
    {
     "data": {
      "text/plain": [
       "array([[0.83279336, 0.16720664],\n",
       "       [0.74686315, 0.25313685],\n",
       "       [0.56434202, 0.43565798],\n",
       "       ...,\n",
       "       [0.28653238, 0.71346762],\n",
       "       [0.94944523, 0.05055477],\n",
       "       [0.96397553, 0.03602447]])"
      ]
     },
     "execution_count": 81,
     "metadata": {},
     "output_type": "execute_result"
    }
   ],
   "source": [
    "model.predict_proba(X_val)"
   ]
  },
  {
   "cell_type": "code",
   "execution_count": 82,
   "id": "a0bcfe45",
   "metadata": {},
   "outputs": [
    {
     "data": {
      "text/plain": [
       "array([0.16720664, 0.25313685, 0.43565798, ..., 0.71346762, 0.05055477,\n",
       "       0.03602447])"
      ]
     },
     "execution_count": 82,
     "metadata": {},
     "output_type": "execute_result"
    }
   ],
   "source": [
    "y_val_pred=model.predict_proba(X_val)[:,1]  #all predictions second column (Churn)\n",
    "y_val_pred"
   ]
  },
  {
   "cell_type": "code",
   "execution_count": 83,
   "id": "ecd99c2b",
   "metadata": {},
   "outputs": [
    {
     "data": {
      "text/plain": [
       "array([False, False, False, ...,  True, False, False])"
      ]
     },
     "execution_count": 83,
     "metadata": {},
     "output_type": "execute_result"
    }
   ],
   "source": [
    "churn_y_val_pred = y_val_pred >= 0.5\n",
    "churn_y_val_pred"
   ]
  },
  {
   "cell_type": "code",
   "execution_count": 84,
   "id": "0f076f30",
   "metadata": {},
   "outputs": [
    {
     "data": {
      "text/plain": [
       "array([0, 0, 0, ..., 1, 0, 0])"
      ]
     },
     "execution_count": 84,
     "metadata": {},
     "output_type": "execute_result"
    }
   ],
   "source": [
    "# hard val prediction \n",
    "model.predict(X_val)"
   ]
  },
  {
   "cell_type": "code",
   "execution_count": 85,
   "id": "c0dcc837",
   "metadata": {},
   "outputs": [
    {
     "data": {
      "text/plain": [
       "array([0, 0, 1, ..., 1, 0, 0])"
      ]
     },
     "execution_count": 85,
     "metadata": {},
     "output_type": "execute_result"
    }
   ],
   "source": [
    "y_val"
   ]
  },
  {
   "cell_type": "code",
   "execution_count": 86,
   "id": "ddb8b296",
   "metadata": {},
   "outputs": [
    {
     "data": {
      "text/plain": [
       "array([ True,  True, False, ...,  True,  True,  True])"
      ]
     },
     "execution_count": 86,
     "metadata": {},
     "output_type": "execute_result"
    }
   ],
   "source": [
    "true_counts =churn_y_val_pred == y_val\n",
    "true_counts"
   ]
  },
  {
   "cell_type": "code",
   "execution_count": 87,
   "id": "44dfbb23",
   "metadata": {},
   "outputs": [
    {
     "name": "stdout",
     "output_type": "stream",
     "text": [
      "Validation Accuracy :  0.8034066713981547\n"
     ]
    }
   ],
   "source": [
    "print ('Validation Accuracy : ', true_counts.mean())   #Mean calculates the (sum of ones / n )=> Accuracy"
   ]
  },
  {
   "cell_type": "code",
   "execution_count": null,
   "id": "2967ada3",
   "metadata": {},
   "outputs": [],
   "source": []
  },
  {
   "cell_type": "markdown",
   "id": "6ea9ff44",
   "metadata": {},
   "source": [
    "# Model interpretation & Explation"
   ]
  },
  {
   "cell_type": "code",
   "execution_count": 88,
   "id": "f5dc3669",
   "metadata": {},
   "outputs": [
    {
     "data": {
      "text/plain": [
       "array([-0.14501866])"
      ]
     },
     "execution_count": 88,
     "metadata": {},
     "output_type": "execute_result"
    }
   ],
   "source": [
    "model.intercept_"
   ]
  },
  {
   "cell_type": "code",
   "execution_count": 89,
   "id": "d515e920",
   "metadata": {},
   "outputs": [
    {
     "data": {
      "text/plain": [
       "array([[ 0.63 , -0.16 , -0.615, -0.054, -0.091,  0.027, -0.132, -0.04 ,\n",
       "        -0.327,  0.314, -0.132,  0.003, -0.225,  0.124, -0.044,  0.076,\n",
       "        -0.132, -0.089,  0.205, -0.132, -0.217, -0.241,  0.096, -0.076,\n",
       "        -0.069, -0.107, -0.186,  0.211, -0.064,  0.124, -0.269,  0.163,\n",
       "        -0.139, -0.132,  0.126, -0.059, -0.132,  0.046,  0.16 , -0.132,\n",
       "        -0.173,  0.   ,  0.015, -0.16 , -0.055]])"
      ]
     },
     "execution_count": 89,
     "metadata": {},
     "output_type": "execute_result"
    }
   ],
   "source": [
    "model.coef_.round(3)"
   ]
  },
  {
   "cell_type": "code",
   "execution_count": 90,
   "id": "db246793",
   "metadata": {},
   "outputs": [
    {
     "data": {
      "text/plain": [
       "{'Contract=month-to-month': 0.63,\n",
       " 'Contract=one_year': -0.16,\n",
       " 'Contract=two_year': -0.615,\n",
       " 'Dependents=no': -0.054,\n",
       " 'Dependents=yes': -0.091,\n",
       " 'DeviceProtection=no': 0.027,\n",
       " 'DeviceProtection=no_internet_service': -0.132,\n",
       " 'DeviceProtection=yes': -0.04,\n",
       " 'InternetService=dsl': -0.327,\n",
       " 'InternetService=fiber_optic': 0.314,\n",
       " 'InternetService=no': -0.132,\n",
       " 'MonthlyCharges': 0.003,\n",
       " 'MultipleLines=no': -0.225,\n",
       " 'MultipleLines=no_phone_service': 0.124,\n",
       " 'MultipleLines=yes': -0.044,\n",
       " 'OnlineBackup=no': 0.076,\n",
       " 'OnlineBackup=no_internet_service': -0.132,\n",
       " 'OnlineBackup=yes': -0.089,\n",
       " 'OnlineSecurity=no': 0.205,\n",
       " 'OnlineSecurity=no_internet_service': -0.132,\n",
       " 'OnlineSecurity=yes': -0.217,\n",
       " 'PaperlessBilling=no': -0.241,\n",
       " 'PaperlessBilling=yes': 0.096,\n",
       " 'Partner=no': -0.076,\n",
       " 'Partner=yes': -0.069,\n",
       " 'PaymentMethod=bank_transfer_(automatic)': -0.107,\n",
       " 'PaymentMethod=credit_card_(automatic)': -0.186,\n",
       " 'PaymentMethod=electronic_check': 0.211,\n",
       " 'PaymentMethod=mailed_check': -0.064,\n",
       " 'PhoneService=no': 0.124,\n",
       " 'PhoneService=yes': -0.269,\n",
       " 'SeniorCitizen': 0.163,\n",
       " 'StreamingMovies=no': -0.139,\n",
       " 'StreamingMovies=no_internet_service': -0.132,\n",
       " 'StreamingMovies=yes': 0.126,\n",
       " 'StreamingTV=no': -0.059,\n",
       " 'StreamingTV=no_internet_service': -0.132,\n",
       " 'StreamingTV=yes': 0.046,\n",
       " 'TechSupport=no': 0.16,\n",
       " 'TechSupport=no_internet_service': -0.132,\n",
       " 'TechSupport=yes': -0.173,\n",
       " 'TotalCharges': 0.0,\n",
       " 'gender=female': 0.015,\n",
       " 'gender=male': -0.16,\n",
       " 'tenure': -0.055}"
      ]
     },
     "execution_count": 90,
     "metadata": {},
     "output_type": "execute_result"
    }
   ],
   "source": [
    "dict(zip(dv.get_feature_names(),model.coef_[0].round(3))) #  intercept + w1*x1 + w2*x2"
   ]
  },
  {
   "cell_type": "code",
   "execution_count": 91,
   "id": "5820aab7",
   "metadata": {},
   "outputs": [
    {
     "data": {
      "text/plain": [
       "['Contract=month-to-month',\n",
       " 'Contract=one_year',\n",
       " 'Contract=two_year',\n",
       " 'TotalCharges',\n",
       " 'tenure']"
      ]
     },
     "execution_count": 91,
     "metadata": {},
     "output_type": "execute_result"
    }
   ],
   "source": [
    "sample = ['Contract', 'tenure', 'TotalCharges']\n",
    "train_dict_small = df_train[sample].to_dict(orient='records')\n",
    "dv_small = DictVectorizer(sparse=False)\n",
    "dv_small.fit(train_dict_small)\n",
    "# convert to one-hot Encoding \n",
    "X_small_train = dv_small.transform(train_dict_small)\n",
    "\n",
    "dv_small.get_feature_names()"
   ]
  },
  {
   "cell_type": "code",
   "execution_count": 92,
   "id": "18f49bbf",
   "metadata": {},
   "outputs": [
    {
     "data": {
      "text/plain": [
       "LogisticRegression(random_state=42, solver='liblinear')"
      ]
     },
     "execution_count": 92,
     "metadata": {},
     "output_type": "execute_result"
    }
   ],
   "source": [
    "model_small = LogisticRegression(solver='liblinear', random_state=random_state)\n",
    "model_small.fit(X_small_train, y_train)"
   ]
  },
  {
   "cell_type": "code",
   "execution_count": 93,
   "id": "71014775",
   "metadata": {},
   "outputs": [
    {
     "data": {
      "text/plain": [
       "-0.7087605584960186"
      ]
     },
     "execution_count": 93,
     "metadata": {},
     "output_type": "execute_result"
    }
   ],
   "source": [
    "model_small.intercept_[0]"
   ]
  },
  {
   "cell_type": "code",
   "execution_count": 94,
   "id": "d44d8ca1",
   "metadata": {},
   "outputs": [
    {
     "data": {
      "text/plain": [
       "{'Contract=month-to-month': 0.928,\n",
       " 'Contract=one_year': -0.241,\n",
       " 'Contract=two_year': -1.396,\n",
       " 'TotalCharges': 0.001,\n",
       " 'tenure': -0.09}"
      ]
     },
     "execution_count": 94,
     "metadata": {},
     "output_type": "execute_result"
    }
   ],
   "source": [
    "dict(zip(dv_small.get_feature_names(), model_small.coef_[0].round(3)))\n"
   ]
  },
  {
   "cell_type": "code",
   "execution_count": 95,
   "id": "b3559fd2",
   "metadata": {},
   "outputs": [],
   "source": [
    "val_dict_small = df_val[sample].to_dict(orient='records')\n",
    "X_small_val = dv_small.transform(val_dict_small)"
   ]
  },
  {
   "cell_type": "code",
   "execution_count": 96,
   "id": "e52fd483",
   "metadata": {},
   "outputs": [
    {
     "data": {
      "text/plain": [
       "array([0.0587024 , 0.31312983, 0.52875624, ..., 0.54585144, 0.04792555,\n",
       "       0.02318653])"
      ]
     },
     "execution_count": 96,
     "metadata": {},
     "output_type": "execute_result"
    }
   ],
   "source": [
    "y_pred_small = model_small.predict_proba(X_small_val)[:, 1]\n",
    "y_pred_small"
   ]
  },
  {
   "cell_type": "code",
   "execution_count": null,
   "id": "56e24d26",
   "metadata": {},
   "outputs": [],
   "source": []
  },
  {
   "cell_type": "markdown",
   "id": "889b2304",
   "metadata": {},
   "source": [
    "# Testing The Model "
   ]
  },
  {
   "cell_type": "code",
   "execution_count": 97,
   "id": "5da93419",
   "metadata": {},
   "outputs": [
    {
     "name": "stdout",
     "output_type": "stream",
     "text": [
      "Validation Accuracy :  0.8034066713981547\n"
     ]
    }
   ],
   "source": [
    "print ('Validation Accuracy : ', true_counts.mean()) "
   ]
  },
  {
   "cell_type": "code",
   "execution_count": 98,
   "id": "6353c399",
   "metadata": {},
   "outputs": [
    {
     "data": {
      "text/plain": [
       "array([ 1. ,  0. ,  0. ,  1. ,  0. ,  1. ,  0. ,  0. ,  1. ,  0. ,  0. ,\n",
       "       24.8,  0. ,  1. ,  0. ,  1. ,  0. ,  0. ,  1. ,  0. ,  0. ,  0. ,\n",
       "        1. ,  0. ,  1. ,  0. ,  0. ,  1. ,  0. ,  1. ,  0. ,  0. ,  1. ,\n",
       "        0. ,  0. ,  1. ,  0. ,  0. ,  1. ,  0. ,  0. , 24.8,  1. ,  0. ,\n",
       "        1. ])"
      ]
     },
     "execution_count": 98,
     "metadata": {},
     "output_type": "execute_result"
    }
   ],
   "source": [
    "dict_test_df=df_test[categorical_columns + numerical_columns].to_dict(orient='records')\n",
    "X_test = dv.transform(dict_test_df)\n",
    "X_test[0]"
   ]
  },
  {
   "cell_type": "code",
   "execution_count": 99,
   "id": "f3736188",
   "metadata": {},
   "outputs": [
    {
     "data": {
      "text/plain": [
       "array([0.7089075 , 0.04811733, 0.00565973, ..., 0.03955792, 0.01903704,\n",
       "       0.56191605])"
      ]
     },
     "execution_count": 99,
     "metadata": {},
     "output_type": "execute_result"
    }
   ],
   "source": [
    "y_test_pred=model.predict_proba(X_test)[:,1]  #all predictions second column (Churn)\n",
    "y_test_pred"
   ]
  },
  {
   "cell_type": "code",
   "execution_count": 100,
   "id": "e14e108b",
   "metadata": {},
   "outputs": [
    {
     "name": "stdout",
     "output_type": "stream",
     "text": [
      "Accuracy :  0.8161816891412349\n"
     ]
    }
   ],
   "source": [
    "churn_y_test_pred = y_test_pred >=0.5\n",
    "correct_y_test_pred = churn_y_test_pred == y_test\n",
    "print('Accuracy : ',correct_y_test_pred.mean())"
   ]
  },
  {
   "cell_type": "code",
   "execution_count": null,
   "id": "30c26846",
   "metadata": {},
   "outputs": [],
   "source": []
  },
  {
   "cell_type": "markdown",
   "id": "9e208749",
   "metadata": {},
   "source": [
    "the predictions of validation and test were similar, which means that the model is working well."
   ]
  },
  {
   "cell_type": "markdown",
   "id": "1c849de1",
   "metadata": {},
   "source": [
    "# Using The Model"
   ]
  },
  {
   "cell_type": "code",
   "execution_count": 101,
   "id": "aa5580ce",
   "metadata": {},
   "outputs": [
    {
     "data": {
      "text/plain": [
       "{'gender': 'male',\n",
       " 'SeniorCitizen': 0,\n",
       " 'Partner': 'no',\n",
       " 'Dependents': 'no',\n",
       " 'PhoneService': 'yes',\n",
       " 'MultipleLines': 'no',\n",
       " 'InternetService': 'no',\n",
       " 'OnlineSecurity': 'no_internet_service',\n",
       " 'OnlineBackup': 'no_internet_service',\n",
       " 'DeviceProtection': 'no_internet_service',\n",
       " 'TechSupport': 'no_internet_service',\n",
       " 'StreamingTV': 'no_internet_service',\n",
       " 'StreamingMovies': 'no_internet_service',\n",
       " 'Contract': 'month-to-month',\n",
       " 'PaperlessBilling': 'no',\n",
       " 'PaymentMethod': 'mailed_check',\n",
       " 'MonthlyCharges': 20.45,\n",
       " 'TotalCharges': 20.45,\n",
       " 'tenure': 1}"
      ]
     },
     "execution_count": 101,
     "metadata": {},
     "output_type": "execute_result"
    }
   ],
   "source": [
    "customer = dict_test_df[10]\n",
    "customer"
   ]
  },
  {
   "cell_type": "code",
   "execution_count": 102,
   "id": "00b8964b",
   "metadata": {},
   "outputs": [
    {
     "data": {
      "text/plain": [
       "array([[ 1.  ,  0.  ,  0.  ,  1.  ,  0.  ,  0.  ,  1.  ,  0.  ,  0.  ,\n",
       "         0.  ,  1.  , 20.45,  1.  ,  0.  ,  0.  ,  0.  ,  1.  ,  0.  ,\n",
       "         0.  ,  1.  ,  0.  ,  1.  ,  0.  ,  1.  ,  0.  ,  0.  ,  0.  ,\n",
       "         0.  ,  1.  ,  0.  ,  1.  ,  0.  ,  0.  ,  1.  ,  0.  ,  0.  ,\n",
       "         1.  ,  0.  ,  0.  ,  1.  ,  0.  , 20.45,  0.  ,  1.  ,  1.  ]])"
      ]
     },
     "execution_count": 102,
     "metadata": {},
     "output_type": "execute_result"
    }
   ],
   "source": [
    "customer_ohe = dv.transform([customer])\n",
    "customer_ohe\n"
   ]
  },
  {
   "cell_type": "code",
   "execution_count": 103,
   "id": "60743def",
   "metadata": {},
   "outputs": [
    {
     "data": {
      "text/plain": [
       "0.17847177925544722"
      ]
     },
     "execution_count": 103,
     "metadata": {},
     "output_type": "execute_result"
    }
   ],
   "source": [
    "model.predict_proba(customer_ohe)[0,1]  # first array second column => churn proba"
   ]
  },
  {
   "cell_type": "code",
   "execution_count": 104,
   "id": "e1e19c80",
   "metadata": {},
   "outputs": [
    {
     "data": {
      "text/plain": [
       "0"
      ]
     },
     "execution_count": 104,
     "metadata": {},
     "output_type": "execute_result"
    }
   ],
   "source": [
    "y_test[10]"
   ]
  },
  {
   "cell_type": "code",
   "execution_count": 105,
   "id": "bdb791b6",
   "metadata": {},
   "outputs": [],
   "source": [
    "# For Another Customer \n",
    "def pred_customer(customer_number):\n",
    "    customer = dict_test_df[customer_number]\n",
    "    customer_ohe = dv.transform([customer])\n",
    "    proba = model.predict_proba(customer_ohe)[0,1]\n",
    "    print('Churn Probability. is : ',proba)\n",
    "    print('Actual Churn Output is : ',y_test[customer_number])\n"
   ]
  },
  {
   "cell_type": "code",
   "execution_count": 106,
   "id": "11570614",
   "metadata": {},
   "outputs": [
    {
     "name": "stdout",
     "output_type": "stream",
     "text": [
      "Churn Probability. is :  0.17847177925544722\n",
      "Actual Churn Output is :  0\n"
     ]
    }
   ],
   "source": [
    "pred_customer(10)"
   ]
  },
  {
   "cell_type": "code",
   "execution_count": 107,
   "id": "85d9becc",
   "metadata": {},
   "outputs": [
    {
     "name": "stdout",
     "output_type": "stream",
     "text": [
      "Churn Probability. is :  0.2639536061802576\n",
      "Actual Churn Output is :  1\n"
     ]
    }
   ],
   "source": [
    "pred_customer(5)     #False prediction "
   ]
  },
  {
   "cell_type": "code",
   "execution_count": 108,
   "id": "aea9d1cc",
   "metadata": {},
   "outputs": [
    {
     "name": "stdout",
     "output_type": "stream",
     "text": [
      "Churn Probability. is :  0.5619160514969783\n",
      "Actual Churn Output is :  1\n"
     ]
    }
   ],
   "source": [
    "pred_customer(-1)"
   ]
  },
  {
   "cell_type": "markdown",
   "id": "9fd23ad3",
   "metadata": {},
   "source": [
    "# Done..."
   ]
  }
 ],
 "metadata": {
  "kernelspec": {
   "display_name": "Python 3 (ipykernel)",
   "language": "python",
   "name": "python3"
  },
  "language_info": {
   "codemirror_mode": {
    "name": "ipython",
    "version": 3
   },
   "file_extension": ".py",
   "mimetype": "text/x-python",
   "name": "python",
   "nbconvert_exporter": "python",
   "pygments_lexer": "ipython3",
   "version": "3.9.13"
  }
 },
 "nbformat": 4,
 "nbformat_minor": 5
}
